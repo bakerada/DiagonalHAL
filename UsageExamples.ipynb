{
 "cells": [
  {
   "cell_type": "code",
   "execution_count": 1,
   "metadata": {
    "collapsed": false
   },
   "outputs": [],
   "source": [
    "import numpy as np\n",
    "from diagonal import Diagonal\n",
    "import scipy.linalg as la\n",
    "import scipy"
   ]
  },
  {
   "cell_type": "markdown",
   "metadata": {},
   "source": [
    "#### Create an instance of A\n",
    "We will use a small value of n and d for readability purposes\n",
    "\n",
    "* n=3\n",
    "* d =2"
   ]
  },
  {
   "cell_type": "code",
   "execution_count": 2,
   "metadata": {
    "collapsed": true
   },
   "outputs": [],
   "source": [
    "diag = Diagonal(3,2)"
   ]
  },
  {
   "cell_type": "markdown",
   "metadata": {},
   "source": [
    "Lets compare the standard vs dense representation and include the basis vectors"
   ]
  },
  {
   "cell_type": "code",
   "execution_count": 3,
   "metadata": {
    "collapsed": false
   },
   "outputs": [
    {
     "name": "stdout",
     "output_type": "stream",
     "text": [
      "[[ 1.68209386  0.18537211  0.51384634]\n",
      " [ 0.64829105 -1.25461459 -0.16189788]\n",
      " [ 0.12170741  0.22680394 -0.73704976]\n",
      " [ 0.70052075 -1.22226286 -0.73490155]\n",
      " [-0.46464491 -1.83254945 -0.24030872]\n",
      " [-0.22186881 -1.39994133  0.15954438]]\n",
      "\n",
      "[[ 1.68209386  0.          0.18537211  0.          0.51384634  0.        ]\n",
      " [ 0.          0.64829105  0.         -1.25461459  0.         -0.16189788]\n",
      " [ 0.12170741  0.          0.22680394  0.         -0.73704976  0.        ]\n",
      " [ 0.          0.70052075  0.         -1.22226286  0.         -0.73490155]\n",
      " [-0.46464491  0.         -1.83254945  0.         -0.24030872  0.        ]\n",
      " [ 0.         -0.22186881  0.         -1.39994133  0.          0.15954438]]\n",
      "\n",
      "[array([0, 2, 4]), array([1, 3, 5])]\n"
     ]
    }
   ],
   "source": [
    "print(diag.matrix,diag.from_dense(diag.matrix),diag.basis,sep='\\n\\n')"
   ]
  },
  {
   "cell_type": "markdown",
   "metadata": {},
   "source": [
    "As seen, every other row in the dense representation corresponds to every other column in A\n",
    "\n",
    "\n",
    "\n",
    "#### Matrix multiplication"
   ]
  },
  {
   "cell_type": "code",
   "execution_count": 4,
   "metadata": {
    "collapsed": true
   },
   "outputs": [],
   "source": [
    "x = np.random.randn(6,6).astype(np.float)\n",
    "sparse = diag.from_dense(diag.matrix)\n",
    "dense_mm = diag.mm(x)\n",
    "sparse_mm = np.dot(sparse,x)"
   ]
  },
  {
   "cell_type": "code",
   "execution_count": 5,
   "metadata": {
    "collapsed": false
   },
   "outputs": [
    {
     "name": "stdout",
     "output_type": "stream",
     "text": [
      "[[ 1.27755207  1.61975335  0.17166713  0.45347977 -1.57522138 -0.54138693]\n",
      " [ 1.60135554 -0.37317055  1.58197813  0.00633124  0.25944916 -0.73678153]\n",
      " [-0.47982576  0.60117021 -0.61218137  0.71784172  1.19347276  0.11817397]\n",
      " [ 1.90153165 -0.43495582  1.24213135  0.12795045  0.09312017 -1.56199765]\n",
      " [ 2.89518543  0.10759587  0.77742783  1.12412282 -1.74117891  0.04048377]\n",
      " [ 0.04238638 -0.19393153  2.13005947 -0.46472496 -0.10578554 -0.08299327]]\n",
      "\n",
      "[[ 1.27755207  1.61975335  0.17166713  0.45347977 -1.57522138 -0.54138693]\n",
      " [ 1.60135554 -0.37317055  1.58197813  0.00633124  0.25944916 -0.73678153]\n",
      " [-0.47982576  0.60117021 -0.61218137  0.71784172  1.19347276  0.11817397]\n",
      " [ 1.90153165 -0.43495582  1.24213135  0.12795045  0.09312017 -1.56199765]\n",
      " [ 2.89518543  0.10759587  0.77742783  1.12412282 -1.74117891  0.04048377]\n",
      " [ 0.04238638 -0.19393153  2.13005947 -0.46472496 -0.10578554 -0.08299327]]\n",
      "\n",
      "True\n"
     ]
    }
   ],
   "source": [
    "print(dense_mm,sparse_mm,np.allclose(dense_mm,sparse_mm),sep='\\n\\n')"
   ]
  },
  {
   "cell_type": "markdown",
   "metadata": {},
   "source": [
    "Left matrix multiplication is also possible"
   ]
  },
  {
   "cell_type": "code",
   "execution_count": 6,
   "metadata": {
    "collapsed": false
   },
   "outputs": [
    {
     "name": "stdout",
     "output_type": "stream",
     "text": [
      "[[ 1.80488102  1.3088895   1.38659953 -1.94375973  0.6540345  -0.72764114]\n",
      " [ 2.59276838  0.23973661 -0.722425    0.08349524  0.9002134  -0.33528254]\n",
      " [-3.7514455  -0.64299902 -2.82741584  1.02806984 -0.88630058  0.52791182]\n",
      " [-0.76771045  0.22977988 -0.44138948 -0.89628949  0.87157363 -0.16637099]\n",
      " [ 1.09217155 -1.15719505  2.63534405  2.43357403 -0.05327339  0.86451469]\n",
      " [-0.75089166 -0.363482   -0.58530784 -1.93498898 -0.64481942  0.3283395 ]]\n",
      "\n",
      "[[ 1.80488102  1.3088895   1.38659953 -1.94375973  0.6540345  -0.72764114]\n",
      " [ 2.59276838  0.23973661 -0.722425    0.08349524  0.9002134  -0.33528254]\n",
      " [-3.7514455  -0.64299902 -2.82741584  1.02806984 -0.88630058  0.52791182]\n",
      " [-0.76771045  0.22977988 -0.44138948 -0.89628949  0.87157363 -0.16637099]\n",
      " [ 1.09217155 -1.15719505  2.63534405  2.43357403 -0.05327339  0.86451469]\n",
      " [-0.75089166 -0.363482   -0.58530784 -1.93498898 -0.64481942  0.3283395 ]]\n",
      "\n",
      "True\n"
     ]
    }
   ],
   "source": [
    "dense_mm = diag.mm(x,left=True)\n",
    "sparse_mm = np.dot(x,sparse)\n",
    "print(dense_mm,sparse_mm,np.allclose(dense_mm,sparse_mm),sep='\\n\\n')"
   ]
  },
  {
   "cell_type": "markdown",
   "metadata": {},
   "source": [
    "#### LU Decomposition"
   ]
  },
  {
   "cell_type": "code",
   "execution_count": 7,
   "metadata": {
    "collapsed": true
   },
   "outputs": [],
   "source": [
    "pa,l,u = diag.plu()"
   ]
  },
  {
   "cell_type": "code",
   "execution_count": 8,
   "metadata": {
    "collapsed": false
   },
   "outputs": [
    {
     "name": "stdout",
     "output_type": "stream",
     "text": [
      "[[ 1.68209386  0.70052075  0.18537211 -1.22226286  0.51384634 -0.73490155]\n",
      " [-0.46464491 -0.22186881 -1.83254945 -1.39994133 -0.24030872  0.15954438]\n",
      " [ 0.12170741  0.64829105  0.22680394 -1.25461459 -0.73704976 -0.16189788]]\n",
      "\n",
      "[[ 1.          0.          0.        ]\n",
      " [ 1.          0.          0.        ]\n",
      " [-0.27623007  1.          0.        ]\n",
      " [-0.31671983  1.          0.        ]\n",
      " [ 0.07235471 -0.11979235  1.        ]\n",
      " [ 0.92544161  0.06909782  1.        ]]\n",
      "\n",
      "[[ 1.68209386  0.18537211  0.51384634]\n",
      " [ 0.70052075 -1.22226286 -0.73490155]\n",
      " [ 0.         -1.7813441  -0.09836891]\n",
      " [ 0.         -1.78705621 -0.07321351]\n",
      " [ 0.          0.         -0.7860128 ]\n",
      " [ 0.          0.          0.52326948]]\n"
     ]
    }
   ],
   "source": [
    "print(pa,l,u,sep='\\n\\n')"
   ]
  },
  {
   "cell_type": "markdown",
   "metadata": {},
   "source": [
    "#### Determinant"
   ]
  },
  {
   "cell_type": "code",
   "execution_count": 9,
   "metadata": {
    "collapsed": false
   },
   "outputs": [
    {
     "data": {
      "text/plain": [
       "1.5428094433056665"
      ]
     },
     "execution_count": 9,
     "metadata": {},
     "output_type": "execute_result"
    }
   ],
   "source": [
    "# Utilize existing U\n",
    "diag.determinant(u)"
   ]
  },
  {
   "cell_type": "code",
   "execution_count": 10,
   "metadata": {
    "collapsed": false
   },
   "outputs": [
    {
     "data": {
      "text/plain": [
       "1.5428094433056665"
      ]
     },
     "execution_count": 10,
     "metadata": {},
     "output_type": "execute_result"
    }
   ],
   "source": [
    "# requries LU decomposition\n",
    "diag.permutation_flag = 1\n",
    "diag.determinant() "
   ]
  },
  {
   "cell_type": "code",
   "execution_count": 11,
   "metadata": {
    "collapsed": false
   },
   "outputs": [
    {
     "data": {
      "text/plain": [
       "1.5428095"
      ]
     },
     "execution_count": 11,
     "metadata": {},
     "output_type": "execute_result"
    }
   ],
   "source": [
    "np.linalg.det(sparse)"
   ]
  },
  {
   "cell_type": "markdown",
   "metadata": {},
   "source": [
    "#### Solve + Inverse"
   ]
  },
  {
   "cell_type": "code",
   "execution_count": 12,
   "metadata": {
    "collapsed": true
   },
   "outputs": [],
   "source": [
    "b = np.eye(6)\n",
    "x = diag.solve(b)"
   ]
  },
  {
   "cell_type": "markdown",
   "metadata": {},
   "source": [
    "Lets check to make sure x is indeed the inverse"
   ]
  },
  {
   "cell_type": "code",
   "execution_count": 13,
   "metadata": {
    "collapsed": false
   },
   "outputs": [],
   "source": [
    "identity = np.dot(diag.to_sparse(pa),x)"
   ]
  },
  {
   "cell_type": "code",
   "execution_count": 14,
   "metadata": {
    "collapsed": false
   },
   "outputs": [
    {
     "name": "stdout",
     "output_type": "stream",
     "text": [
      "[[  1.00000000e+00   0.00000000e+00  -4.17966588e-18   0.00000000e+00\n",
      "   -1.96151125e-17   0.00000000e+00]\n",
      " [  0.00000000e+00   1.00000000e+00   0.00000000e+00   4.63947772e-17\n",
      "    0.00000000e+00  -4.01511616e-17]\n",
      " [ -6.02104757e-17   0.00000000e+00   1.00000000e+00   0.00000000e+00\n",
      "   -3.26715166e-18   0.00000000e+00]\n",
      " [  0.00000000e+00  -5.03867806e-17   0.00000000e+00   1.00000000e+00\n",
      "    0.00000000e+00  -2.60166964e-17]\n",
      " [  3.42193452e-19   0.00000000e+00  -1.33703472e-17   0.00000000e+00\n",
      "    1.00000000e+00   0.00000000e+00]\n",
      " [  0.00000000e+00  -1.90926808e-16   0.00000000e+00   1.66919518e-17\n",
      "    0.00000000e+00   1.00000000e+00]]\n",
      "\n",
      "True\n"
     ]
    }
   ],
   "source": [
    "print(identity,np.allclose(b,identity),sep='\\n\\n')"
   ]
  },
  {
   "cell_type": "markdown",
   "metadata": {},
   "source": [
    "#### Large Matrix Multiplication\n",
    "\n",
    "The Diagonal class allows for a pre indexed matrix to perform matrix multiplication, which allows us to test the theoretical limit of the operation on the current device"
   ]
  },
  {
   "cell_type": "code",
   "execution_count": 15,
   "metadata": {
    "collapsed": false
   },
   "outputs": [],
   "source": [
    "diag = Diagonal(1000,1000)\n",
    "x = np.random.randn(1000,1000,1000)\n",
    "\n",
    "ax = diag.mm(x,batch=False)"
   ]
  },
  {
   "cell_type": "code",
   "execution_count": 16,
   "metadata": {
    "collapsed": false
   },
   "outputs": [
    {
     "name": "stdout",
     "output_type": "stream",
     "text": [
      "(1000000, 1000)\n"
     ]
    }
   ],
   "source": [
    "print(ax.shape)"
   ]
  }
 ],
 "metadata": {
  "kernelspec": {
   "display_name": "Python [default]",
   "language": "python",
   "name": "python3"
  },
  "language_info": {
   "codemirror_mode": {
    "name": "ipython",
    "version": 3
   },
   "file_extension": ".py",
   "mimetype": "text/x-python",
   "name": "python",
   "nbconvert_exporter": "python",
   "pygments_lexer": "ipython3",
   "version": "3.5.4"
  }
 },
 "nbformat": 4,
 "nbformat_minor": 2
}
