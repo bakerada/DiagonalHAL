{
 "cells": [
  {
   "cell_type": "code",
   "execution_count": 204,
   "metadata": {
    "collapsed": false
   },
   "outputs": [],
   "source": [
    "import numpy as np\n",
    "import matplotlib.pyplot as plt\n",
    "import scipy.linalg as la\n",
    "import scipy\n",
    "import time\n",
    "#from diagonal import *\n",
    "%matplotlib inline"
   ]
  },
  {
   "cell_type": "code",
   "execution_count": 611,
   "metadata": {
    "collapsed": false
   },
   "outputs": [],
   "source": [
    "class Diagonal:\n",
    "    def __init__(self,n,d,precision='single',sparse=True):\n",
    "        self.n = n\n",
    "        self.d = d\n",
    "        self.area = n*d\n",
    "        self.dims = 2\n",
    "        self.shape = [self.n*self.d,self.n*self.d]\n",
    "        self.precision = np.float32 if 'single' else np.float64\n",
    "        self.sparse= sparse\n",
    "        self.table = self._create_table()\n",
    "        self.matrix = self._create_matrix()\n",
    "        self.basis = self._create_basis()\n",
    "        self.row_based = self._create_row_representation()\n",
    "        \n",
    "    \n",
    "    def _create_basis(self):\n",
    "        return np.split(np.array(self.table[1][:self.area]),self.d)\n",
    "    \n",
    "    def _create_row_representation(self):\n",
    "        row_wise = np.zeros((self.n,self.area))\n",
    "        for ii,i in enumerate(np.repeat(range(self.matrix.shape[1]),self.d)):\n",
    "            row_wise[:,ii] = self.matrix[:,i][ii%self.d::self.d]\n",
    "        return row_wise\n",
    "    def _create_table(self):\n",
    "        ''' \n",
    "            This function will create a lookup table of indicies of where the values in the sparse\n",
    "            representation exist in the full matrix\n",
    "        '''\n",
    "        rows = np.repeat(range(self.area),self.n)\n",
    "        columns = [list(range(i,self.area,self.d)) for i in range(self.d)]\n",
    "        columns = [i for c in columns for i in c] * self.n\n",
    "        return rows,columns\n",
    "    \n",
    "    def _create_zero_matrix(self):\n",
    "        return np.zeros((self.shape)).astype(self.precision)\n",
    "        \n",
    "    \n",
    "    def _create_matrix(self):\n",
    "        \n",
    "        if 1 in[self.n,self.d]:\n",
    "            raise AssertionError('n or d cannot be equal to 1')\n",
    "        populated = self.n**2 * self.d\n",
    "        values = np.random.randn(populated).astype(self.precision)\n",
    "        sparse= np.reshape(values,(self.area, self.n))\n",
    "        return sparse\n",
    "    \n",
    "    def from_dense(self,arr):\n",
    "        ''' \n",
    "            This function will take a dense representation of the sparse matrix\n",
    "            and recreate the sparse matrix\n",
    "        '''\n",
    "        matrix = self._create_zero_matrix()\n",
    "        matrix[self.table] = arr.flatten()\n",
    "        return matrix\n",
    "    \n",
    "    def _sparse_mm(self,y,left=False,batch = True):\n",
    "        if batch:\n",
    "            if left:\n",
    "                batched = np.vstack([y[:,b] for b in self.basis])\n",
    "                batched = np.reshape(batched,(self.d,y.shape[-1],self.n))\n",
    "            else:\n",
    "                batched = np.vstack([y[b,:] for b in self.basis])\n",
    "                batched = np.reshape(batched,(self.d,self.n,y.shape[-1]))\n",
    "            #batched = np.vstack([batched for _ in range(self.n)])\n",
    "        else:\n",
    "            batched=y\n",
    "        if left:\n",
    "            return np.vstack([np.dot(batched[ii%self.d],i) for ii,i in enumerate(self.row_based.T)]).T\n",
    "        else:\n",
    "            return np.vstack([np.dot(i,batched[ii%self.d]) for ii,i in enumerate(diag.matrix)])\n",
    "        \n",
    "    @staticmethod\n",
    "    def _swap_elements(l,i,j):\n",
    "        new = l.copy()\n",
    "        new[i],new[j] = j,i\n",
    "        return new\n",
    "    \n",
    "    def _create_diag(self):\n",
    "        return np.repeat(np.arange(0,self.n),self.d)\n",
    "    \n",
    "    def get_permutation_dense(self):\n",
    "        diags = np.repeat(np.arange(0,self.n),self.d)\n",
    "        updated = self.row_based.copy()\n",
    "        for c in range(updated.shape[1]):\n",
    "            max_idx = np.argmax(np.abs(self.row_based[diags[c]:,c]))\n",
    "            max_idx += diags[c]\n",
    "            if (max_idx != diags[c]) and (max_idx > diags[c] ):\n",
    "\n",
    "                order = self._swap_elements(list(range(updated.shape[0])),max_idx,diags[c])\n",
    "                basis = self.basis[c%self.d]\n",
    "                updated[:,basis] = updated[:,basis][[order],:]\n",
    "        return updated\n",
    "    \n",
    "    @staticmethod\n",
    "    def create_pivot(mat):\n",
    "        mat_size = mat.shape[0]\n",
    "        p_blank = np.eye(mat_size)\n",
    "        for c in range(mat_size):\n",
    "            row = max(range(c, mat_size), key=lambda i: abs(mat[i,c]))\n",
    "            if c != row:\n",
    "                p_blank[[c,row]] = p_blank[[row,c]]\n",
    "        return p_blank\n",
    "        \n",
    "    \n",
    "    def mm(self,y,x=None,sparse=True,left=False,batch=True):\n",
    "        if sparse:\n",
    "            return self._sparse_mm(y,left=left,batch=batch)\n",
    "        else:\n",
    "            assert x is not None\n",
    "            return np.dot(x,y)\n",
    "        \n",
    "   \n",
    "    def to_dense(self,mat):\n",
    "        dense = np.zeros((self.area,self.n))\n",
    "        for i in range(self.d):\n",
    "            dense[self.basis[i%self.d],:] = mat[i%self.d::self.d,self.basis[i%self.d]]\n",
    "        return dense\n",
    "    def _backwards_solve(self,A,b):\n",
    "        diags = self._create_diag()\n",
    "        x = np.zeros(b.shape)\n",
    "        for i in range(b.shape[0])[::-1]:\n",
    "            basis = self.basis[i%self.d][::-1]\n",
    "            subset = [s for s in basis if s >i]\n",
    "            x[i] = (b[i] -(A[i][diags[i]+1:] *x[subset][::-1].T).sum()) / A[i,diags[i]]\n",
    "        return x\n",
    "        \n",
    "    \n",
    "    def backwards(self,A,b):\n",
    "        return np.hstack([self._backwards_solve(A,b[:,i])[...,None] for i in range(len(b))])\n",
    "        \n",
    "    def _forward_solve(self,A,column):\n",
    "            x = np.zeros(column.shape)\n",
    "            diags = self._create_diag()\n",
    "            for i in range(column.shape[0]):\n",
    "                basis = self.basis[i%self.d]\n",
    "                subset = [s for s in basis if s <i]\n",
    "                x[i] = (column[i] - (A[i][:diags[i]] *x[subset].T).sum()) / A[i,diags[i]]\n",
    "            return x\n",
    "    def forward(self,A,b):\n",
    "        return np.hstack([self._forward_solve(A,b[:,i])[...,None] for i in range(len(b))])\n",
    "    def plu(self):\n",
    "        L = np.eye(self.area)\n",
    "        U = np.zeros((self.area,self.area))\n",
    "        #P = self.create_pivot(self.from_dense(self.matrix))\n",
    "        PA = self.get_permutation_dense()\n",
    "\n",
    "        for j in range(self.area):\n",
    "\n",
    "            basis = self.basis[j%self.d]\n",
    "            Uupdatedable = [b for b in basis if b<=j]\n",
    "            Lupdatedable = [b for b in basis if b>j]\n",
    "\n",
    "            for ii,i in enumerate(basis):\n",
    "                if i <= j:\n",
    "                    if len(Uupdatedable) == 1:\n",
    "                        value = PA[ii,j]\n",
    "                    else:\n",
    "                        value= PA[ii,j] - (U[Uupdatedable[:ii+(1-j%2)],j] *L[basis[ii],Uupdatedable[:ii+(1-j%2)]]).sum()\n",
    "                    U[i,j] = value\n",
    "\n",
    "                \n",
    "            #for ii,i in enumerate(basis):\n",
    "                if i > j:\n",
    "                    if len(Lupdatedable)>self.d:\n",
    "                        value = PA[ii,j] / U[j,j]\n",
    "                    else:\n",
    "                        value = (PA[ii,j] -(L[basis[ii],range(j)] * U[range(j),j]).sum()) / U[j,j]\n",
    "                    L[i,j] = value\n",
    "\n",
    "\n",
    "        return(PA,L,U)\n",
    "    \n",
    "            \n",
    "        \n",
    "        "
   ]
  },
  {
   "cell_type": "code",
   "execution_count": 1,
   "metadata": {
    "collapsed": true
   },
   "outputs": [],
   "source": [
    "import math\n",
    "import numpy as np"
   ]
  },
  {
   "cell_type": "code",
   "execution_count": 2,
   "metadata": {
    "collapsed": true
   },
   "outputs": [],
   "source": [
    "n = 300\n",
    "d = 300\n",
    "z = 1000"
   ]
  },
  {
   "cell_type": "code",
   "execution_count": 4,
   "metadata": {
    "collapsed": false
   },
   "outputs": [
    {
     "data": {
      "text/plain": [
       "1000000"
      ]
     },
     "execution_count": 4,
     "metadata": {},
     "output_type": "execute_result"
    }
   ],
   "source": [
    "1000**2"
   ]
  },
  {
   "cell_type": "code",
   "execution_count": 5,
   "metadata": {
    "collapsed": false
   },
   "outputs": [],
   "source": [
    "diag = Diagonal(n,d)\n",
    "y = np.zeros((d,n,z))\n",
    "x = diag.mm(y,batch=False)"
   ]
  },
  {
   "cell_type": "code",
   "execution_count": 3,
   "metadata": {
    "collapsed": false
   },
   "outputs": [
    {
     "ename": "MemoryError",
     "evalue": "",
     "output_type": "error",
     "traceback": [
      "\u001b[0;31m---------------------------------------------------------------------------\u001b[0m",
      "\u001b[0;31mMemoryError\u001b[0m                               Traceback (most recent call last)",
      "\u001b[0;32m<ipython-input-3-b0a1c8d223e3>\u001b[0m in \u001b[0;36m<module>\u001b[0;34m()\u001b[0m\n\u001b[0;32m----> 1\u001b[0;31m \u001b[0mzz\u001b[0m \u001b[0;34m=\u001b[0m \u001b[0mnp\u001b[0m\u001b[0;34m.\u001b[0m\u001b[0mdot\u001b[0m\u001b[0;34m(\u001b[0m\u001b[0mnp\u001b[0m\u001b[0;34m.\u001b[0m\u001b[0mrandom\u001b[0m\u001b[0;34m.\u001b[0m\u001b[0mrandn\u001b[0m\u001b[0;34m(\u001b[0m\u001b[0mn\u001b[0m\u001b[0;34m*\u001b[0m\u001b[0md\u001b[0m\u001b[0;34m,\u001b[0m\u001b[0mn\u001b[0m\u001b[0;34m*\u001b[0m\u001b[0md\u001b[0m\u001b[0;34m)\u001b[0m\u001b[0;34m,\u001b[0m\u001b[0mnp\u001b[0m\u001b[0;34m.\u001b[0m\u001b[0mrandom\u001b[0m\u001b[0;34m.\u001b[0m\u001b[0mrandn\u001b[0m\u001b[0;34m(\u001b[0m\u001b[0mn\u001b[0m\u001b[0;34m*\u001b[0m\u001b[0md\u001b[0m\u001b[0;34m,\u001b[0m\u001b[0mn\u001b[0m\u001b[0;34m*\u001b[0m\u001b[0md\u001b[0m\u001b[0;34m)\u001b[0m\u001b[0;34m)\u001b[0m\u001b[0;34m\u001b[0m\u001b[0m\n\u001b[0m",
      "\u001b[0;32mmtrand.pyx\u001b[0m in \u001b[0;36mmtrand.RandomState.randn\u001b[0;34m()\u001b[0m\n",
      "\u001b[0;32mmtrand.pyx\u001b[0m in \u001b[0;36mmtrand.RandomState.standard_normal\u001b[0;34m()\u001b[0m\n",
      "\u001b[0;32mmtrand.pyx\u001b[0m in \u001b[0;36mmtrand.cont0_array\u001b[0;34m()\u001b[0m\n",
      "\u001b[0;31mMemoryError\u001b[0m: "
     ]
    }
   ],
   "source": [
    "zz = np.dot(np.random.randn(n*d,n*d),np.random.randn(n*d,n*d))"
   ]
  },
  {
   "cell_type": "code",
   "execution_count": null,
   "metadata": {
    "collapsed": true
   },
   "outputs": [],
   "source": []
  },
  {
   "cell_type": "code",
   "execution_count": 61,
   "metadata": {
    "collapsed": false
   },
   "outputs": [
    {
     "data": {
      "text/plain": [
       "True"
      ]
     },
     "execution_count": 61,
     "metadata": {},
     "output_type": "execute_result"
    }
   ],
   "source": [
    "np.allclose(diag.mm(x,sparse=True,left=False),diag.mm(x,new_normal,sparse=False))"
   ]
  },
  {
   "cell_type": "code",
   "execution_count": 62,
   "metadata": {
    "collapsed": false
   },
   "outputs": [
    {
     "data": {
      "text/plain": [
       "True"
      ]
     },
     "execution_count": 62,
     "metadata": {},
     "output_type": "execute_result"
    }
   ],
   "source": [
    "np.allclose(diag.mm(x,sparse=True,left=True),diag.mm(new_normal,x,sparse=False,left=True))"
   ]
  },
  {
   "cell_type": "code",
   "execution_count": 28,
   "metadata": {
    "collapsed": false
   },
   "outputs": [
    {
     "name": "stdout",
     "output_type": "stream",
     "text": [
      "7.88 s ± 18.7 ms per loop (mean ± std. dev. of 7 runs, 1 loop each)\n"
     ]
    }
   ],
   "source": [
    "%%timeit\n",
    "np.dot(new_normal,x)"
   ]
  },
  {
   "cell_type": "code",
   "execution_count": 13,
   "metadata": {
    "collapsed": false
   },
   "outputs": [
    {
     "name": "stdout",
     "output_type": "stream",
     "text": [
      "7.910259246826172\n"
     ]
    }
   ],
   "source": [
    "import time\n",
    "start = time.time()\n",
    "diag.mm(x,new_normal,sparse=False)\n",
    "end = time.time()\n",
    "print(end - start)"
   ]
  },
  {
   "cell_type": "code",
   "execution_count": 18,
   "metadata": {
    "collapsed": true
   },
   "outputs": [],
   "source": [
    "def return_time(function,x,kwargs={}):\n",
    "    start = time.time()\n",
    "    function(x,**kwargs)\n",
    "    end = time.time()\n",
    "    return end-start"
   ]
  },
  {
   "cell_type": "code",
   "execution_count": 3,
   "metadata": {
    "collapsed": true
   },
   "outputs": [],
   "source": [
    "def return_time(function,args,kwargs={}):\n",
    "    start = time.time()\n",
    "    function(*args,**kwargs)\n",
    "    end = time.time()\n",
    "    return end-start"
   ]
  },
  {
   "cell_type": "code",
   "execution_count": null,
   "metadata": {
    "collapsed": true
   },
   "outputs": [],
   "source": [
    "def return_time(function,args,kwargs={}):\n",
    "    start = time.time()\n",
    "    function(*args,**kwargs)\n",
    "    end = time.time()\n",
    "    return end-start"
   ]
  },
  {
   "cell_type": "code",
   "execution_count": 45,
   "metadata": {
    "collapsed": false
   },
   "outputs": [
    {
     "data": {
      "text/plain": [
       "3.076077461242676"
      ]
     },
     "execution_count": 45,
     "metadata": {},
     "output_type": "execute_result"
    }
   ],
   "source": [
    "return_time(diag.mm,(x),kwargs={'sparse':True})"
   ]
  },
  {
   "cell_type": "code",
   "execution_count": null,
   "metadata": {
    "collapsed": false
   },
   "outputs": [
    {
     "name": "stdout",
     "output_type": "stream",
     "text": [
      "10\n",
      "20\n",
      "30\n",
      "40\n",
      "50\n",
      "60\n",
      "70\n",
      "80\n",
      "90\n"
     ]
    }
   ],
   "source": [
    "dot_times = []\n",
    "for i in range(2,200):\n",
    "    \n",
    "    x = np.random.randn(i**2,i**2)\n",
    "    y = np.random.randn(i**2,i**2)\n",
    "    dot_times.append(return_time(np.dot,(x,y)))\n",
    "    if i % 10 == 0:\n",
    "        print(i)\n",
    "    "
   ]
  },
  {
   "cell_type": "code",
   "execution_count": 49,
   "metadata": {
    "collapsed": false
   },
   "outputs": [
    {
     "name": "stdout",
     "output_type": "stream",
     "text": [
      "10\n",
      "20\n",
      "30\n",
      "40\n",
      "50\n",
      "60\n",
      "70\n",
      "80\n",
      "90\n",
      "100\n"
     ]
    }
   ],
   "source": [
    "sparse_times = []\n",
    "for i in range(2,101):\n",
    "    \n",
    "    x = np.random.randn(i**2,i**2)\n",
    "    diag = Diagonal(i,i)\n",
    "    sparse_times.append(return_time(diag.mm,x,kwargs={'sparse':True}))\n",
    "    if i % 10 == 0:\n",
    "        print(i)\n",
    "    \n",
    "    "
   ]
  },
  {
   "cell_type": "code",
   "execution_count": 41,
   "metadata": {
    "collapsed": false
   },
   "outputs": [
    {
     "data": {
      "text/plain": [
       "[<matplotlib.lines.Line2D at 0x7fc1fd88bfd0>]"
      ]
     },
     "execution_count": 41,
     "metadata": {},
     "output_type": "execute_result"
    },
    {
     "data": {
      "image/png": "[encoded data removed]",
      "text/plain": [
       "<matplotlib.figure.Figure at 0x7fc1fd884a90>"
      ]
     },
     "metadata": {},
     "output_type": "display_data"
    }
   ],
   "source": [
    "plt.plot(dot_times)"
   ]
  },
  {
   "cell_type": "code",
   "execution_count": 68,
   "metadata": {
    "collapsed": false
   },
   "outputs": [
    {
     "data": {
      "text/plain": [
       "<matplotlib.legend.Legend at 0x7fc1e3eba6d8>"
      ]
     },
     "execution_count": 68,
     "metadata": {},
     "output_type": "execute_result"
    },
    {
     "data": {
      "image/png": "[encoded data removed]",
      "text/plain": [
       "<matplotlib.figure.Figure at 0x7fc1e3eba0f0>"
      ]
     },
     "metadata": {},
     "output_type": "display_data"
    }
   ],
   "source": [
    "plt.plot(dot_times,'r--',sparse_times,'b--',scipy_times,'g--',scipy_times_csc,'g')\n",
    "plt.legend(['Numpy Dot', 'Sparse Dot','CSR_Scipy','CSC_Scipy'], loc='upper left')"
   ]
  },
  {
   "cell_type": "code",
   "execution_count": 20,
   "metadata": {
    "collapsed": true
   },
   "outputs": [],
   "source": [
    "import time"
   ]
  },
  {
   "cell_type": "code",
   "execution_count": 21,
   "metadata": {
    "collapsed": false
   },
   "outputs": [
    {
     "name": "stdout",
     "output_type": "stream",
     "text": [
      "10\n",
      "20\n",
      "30\n",
      "40\n",
      "50\n",
      "60\n",
      "70\n",
      "80\n",
      "90\n",
      "100\n"
     ]
    }
   ],
   "source": [
    "scipy_lu = []\n",
    "for i in range(2,101):\n",
    "    \n",
    "    x = np.random.randn(i**2,i**2)\n",
    "    diag = Diagonal(i,i)\n",
    "    mat = d.from_dense(d.matrix)\n",
    "    scipy_lu.append(return_time(la.lu,x))\n",
    "    if i % 10 == 0:\n",
    "        print(i)"
   ]
  },
  {
   "cell_type": "code",
   "execution_count": null,
   "metadata": {
    "collapsed": true
   },
   "outputs": [],
   "source": [
    "scipy_lu = []\n",
    "for i in range(2,101):\n",
    "    \n",
    "    x = np.random.randn(i**2,i**2)\n",
    "    diag = Diagonal(i,i)\n",
    "    mat = d.from_dense(d.matrix)\n",
    "    scipy_lu.append(return_time(la.lu,x))\n",
    "    if i % 10 == 0:\n",
    "        print(i)"
   ]
  },
  {
   "cell_type": "code",
   "execution_count": null,
   "metadata": {
    "collapsed": false
   },
   "outputs": [
    {
     "name": "stdout",
     "output_type": "stream",
     "text": [
      "10\n",
      "20\n",
      "30\n",
      "40\n"
     ]
    }
   ],
   "source": [
    "base_lu = []\n",
    "for i in range(2,101):\n",
    "    \n",
    "    x = np.random.randn(i**2,i**2)\n",
    "    diag = Diagonal(i,i)\n",
    "    mat = diag.from_dense(diag.matrix)\n",
    "    base_lu.append(return_time(lu_decomp,mat))\n",
    "    if i % 10 == 0:\n",
    "        print(i)"
   ]
  },
  {
   "cell_type": "code",
   "execution_count": 39,
   "metadata": {
    "collapsed": false
   },
   "outputs": [
    {
     "name": "stdout",
     "output_type": "stream",
     "text": [
      "10\n",
      "20\n",
      "30\n",
      "40\n",
      "50\n",
      "60\n",
      "70\n",
      "80\n",
      "90\n",
      "100\n"
     ]
    }
   ],
   "source": [
    "diag_lu = []\n",
    "for i in range(2,101):\n",
    "    \n",
    "    x = np.random.randn(i**2,i**2)\n",
    "    diag = Diagonal(i,i)\n",
    "    start = time.time()\n",
    "    _=diag.plu()\n",
    "    end = time.time()\n",
    "    diag_lu.append(end-start)\n",
    "    if i % 10 == 0:\n",
    "        print(i)"
   ]
  },
  {
   "cell_type": "code",
   "execution_count": 29,
   "metadata": {
    "collapsed": false
   },
   "outputs": [
    {
     "name": "stdout",
     "output_type": "stream",
     "text": [
      "8.743863105773926\n"
     ]
    }
   ],
   "source": [
    "print(scipy_lu[-1])"
   ]
  },
  {
   "cell_type": "code",
   "execution_count": 35,
   "metadata": {
    "collapsed": false
   },
   "outputs": [
    {
     "data": {
      "text/plain": [
       "10"
      ]
     },
     "execution_count": 35,
     "metadata": {},
     "output_type": "execute_result"
    }
   ],
   "source": [
    "d.n"
   ]
  },
  {
   "cell_type": "code",
   "execution_count": 44,
   "metadata": {
    "collapsed": false
   },
   "outputs": [
    {
     "data": {
      "text/plain": [
       "[<matplotlib.lines.Line2D at 0x7f5d488fce10>]"
      ]
     },
     "execution_count": 44,
     "metadata": {},
     "output_type": "execute_result"
    },
    {
     "data": {
      "image/png": "[encoded data removed]",
      "text/plain": [
       "<Figure size 432x288 with 1 Axes>"
      ]
     },
     "metadata": {},
     "output_type": "display_data"
    }
   ],
   "source": [
    "plt.plot(scipy_lu,'b')"
   ]
  },
  {
   "cell_type": "code",
   "execution_count": 42,
   "metadata": {
    "collapsed": false
   },
   "outputs": [
    {
     "data": {
      "text/plain": [
       "[<matplotlib.lines.Line2D at 0x7f5d488c3978>]"
      ]
     },
     "execution_count": 42,
     "metadata": {},
     "output_type": "execute_result"
    },
    {
     "data": {
      "image/png": "[encoded data removed]",
      "text/plain": [
       "<Figure size 432x288 with 1 Axes>"
      ]
     },
     "metadata": {},
     "output_type": "display_data"
    }
   ],
   "source": [
    "plt.plot(diag_lu,'b')"
   ]
  },
  {
   "cell_type": "code",
   "execution_count": null,
   "metadata": {
    "collapsed": true
   },
   "outputs": [],
   "source": []
  },
  {
   "cell_type": "code",
   "execution_count": 56,
   "metadata": {
    "collapsed": true
   },
   "outputs": [],
   "source": [
    "from scipy import sparse,dot"
   ]
  },
  {
   "cell_type": "code",
   "execution_count": 63,
   "metadata": {
    "collapsed": false
   },
   "outputs": [
    {
     "name": "stdout",
     "output_type": "stream",
     "text": [
      "10\n",
      "20\n",
      "30\n",
      "40\n",
      "50\n",
      "60\n",
      "70\n",
      "80\n",
      "90\n",
      "100\n"
     ]
    }
   ],
   "source": [
    "scipy_times = []\n",
    "for i in range(2,101):\n",
    "    \n",
    "    x = np.random.randn(i**2,i**2)\n",
    "    diag = Diagonal(i,i)\n",
    "    sparse_matrix = sparse.csr_matrix(diag.from_dense(diag.matrix))\n",
    "    scipy_times.append(return_time(sparse.csr_matrix.dot,(sparse_matrix,x)))\n",
    "    if i % 10 == 0:\n",
    "        print(i)"
   ]
  },
  {
   "cell_type": "code",
   "execution_count": 65,
   "metadata": {
    "collapsed": false
   },
   "outputs": [
    {
     "name": "stdout",
     "output_type": "stream",
     "text": [
      "10\n",
      "20\n",
      "30\n",
      "40\n",
      "50\n",
      "60\n",
      "70\n",
      "80\n",
      "90\n",
      "100\n"
     ]
    }
   ],
   "source": [
    "scipy_times_csc = []\n",
    "for i in range(2,101):\n",
    "    \n",
    "    x = np.random.randn(i**2,i**2)\n",
    "    diag = Diagonal(i,i)\n",
    "    sparse_matrix = sparse.csc_matrix(diag.from_dense(diag.matrix))\n",
    "    scipy_times_csc.append(return_time(sparse.csc_matrix.dot,(sparse_matrix,x)))\n",
    "    if i % 10 == 0:\n",
    "        print(i)"
   ]
  },
  {
   "cell_type": "code",
   "execution_count": 90,
   "metadata": {
    "collapsed": false
   },
   "outputs": [],
   "source": []
  },
  {
   "cell_type": "code",
   "execution_count": 246,
   "metadata": {
    "collapsed": false
   },
   "outputs": [],
   "source": [
    "#d = Diagonal(3,2)\n",
    "#mat = d.from_dense(d.matrix)\n",
    "#PA = get_permutation_dense(d)\n",
    "U = np.zeros(d.row_based.shape)\n",
    "L = np.zeros(d.row_based.shape)\n",
    "diags = np.repeat(np.arange(0,d.n),d.d)\n",
    "for dd,i in enumerate(diags):\n",
    "    L[i%3,dd] = 1.\n",
    "    \n",
    "#P = create_pivot(d.from_dense(d.matrix))\n",
    "#PA = get_permutation_dense(d)\n"
   ]
  },
  {
   "cell_type": "code",
   "execution_count": 256,
   "metadata": {
    "collapsed": true
   },
   "outputs": [],
   "source": [
    "j=1\n",
    "basis = d.basis[j%d.d]\n",
    "updatedable = [b for b in basis if b<=j]"
   ]
  },
  {
   "cell_type": "code",
   "execution_count": 258,
   "metadata": {
    "collapsed": false
   },
   "outputs": [
    {
     "name": "stdout",
     "output_type": "stream",
     "text": [
      "-1.517400860786438\n"
     ]
    }
   ],
   "source": [
    "for ii,i in enumerate(basis):\n",
    "    if i <= j:\n",
    "        if len(updatedable) == 1:\n",
    "            value = PA[ii,j]\n",
    "        else:\n",
    "            value= PA[ii,j] - (U[:ii+(1-j%2),j] *L[ii,:ii+(1-j%2)]).sum()\n",
    "        print(value)\n",
    "        U[ii,j] = value"
   ]
  },
  {
   "cell_type": "code",
   "execution_count": 266,
   "metadata": {
    "collapsed": false
   },
   "outputs": [
    {
     "name": "stdout",
     "output_type": "stream",
     "text": [
      "(array([0.63742576]), array([-1.51740086]))\n",
      "-0.29683069784846505\n",
      "(array([0.07055672]), array([-1.51740086]))\n",
      "-0.8780089178754102\n"
     ]
    }
   ],
   "source": [
    "updatedable = [b for b in basis if b>j]\n",
    "for ii,i in enumerate(basis):\n",
    "    if i > j:\n",
    "        if len(updatedable)>d.d:\n",
    "            print(\"shortcut\")\n",
    "            value = PA[ii,j] / U[j,j]\n",
    "        else:\n",
    "            print( (L[ii,range(j%d.d)] , U[range(j%d.d),j]))\n",
    "            value = (PA[ii,j] -(L[[ii],range(j)] * U[range(j),j]).sum()) / U[diags[j],j]\n",
    "            \n",
    "            print(value)\n",
    "\n",
    "        #L[ii,j] = value"
   ]
  },
  {
   "cell_type": "code",
   "execution_count": 267,
   "metadata": {
    "collapsed": false
   },
   "outputs": [
    {
     "data": {
      "text/plain": [
       "array([1, 3, 5])"
      ]
     },
     "execution_count": 267,
     "metadata": {},
     "output_type": "execute_result"
    }
   ],
   "source": [
    "basis"
   ]
  },
  {
   "cell_type": "code",
   "execution_count": 269,
   "metadata": {
    "collapsed": false
   },
   "outputs": [
    {
     "data": {
      "text/plain": [
       "array([1, 0, 2])"
      ]
     },
     "execution_count": 269,
     "metadata": {},
     "output_type": "execute_result"
    }
   ],
   "source": []
  },
  {
   "cell_type": "code",
   "execution_count": 261,
   "metadata": {
    "collapsed": false
   },
   "outputs": [
    {
     "name": "stdout",
     "output_type": "stream",
     "text": [
      "[[ 0.85997415 -1.51740086  1.0397054  -0.12726651 -1.8338536  -0.70463437]\n",
      " [ 0.54816967 -0.51681924 -0.41988409  1.76475978  1.01285851 -0.22566311]\n",
      " [ 0.06067695  1.22522867  0.29368633  1.3415972   1.45098865  1.43674076]]\n"
     ]
    }
   ],
   "source": [
    "print(PA)"
   ]
  },
  {
   "cell_type": "code",
   "execution_count": 265,
   "metadata": {
    "collapsed": false
   },
   "outputs": [
    {
     "name": "stdout",
     "output_type": "stream",
     "text": [
      "[[1.         1.         0.         0.         0.         0.        ]\n",
      " [0.63742576 0.         1.         1.         0.         0.        ]\n",
      " [0.07055672 0.         0.         0.         1.         1.        ]]\n"
     ]
    }
   ],
   "source": [
    "print(L)"
   ]
  },
  {
   "cell_type": "code",
   "execution_count": 238,
   "metadata": {
    "collapsed": true
   },
   "outputs": [],
   "source": [
    "for j in range(d.area):\n",
    "    basis = d.basis[j%d.d]\n",
    "    updatedable = [b for b in basis if b<=j]\n",
    "    for ii,i in enumerate(basis):\n",
    "        if i <= j:\n",
    "            if len(updatedable) == 1:\n",
    "                value = PA[ii,j]\n",
    "            else:\n",
    "                value= PA[ii,j] - (U[:ii+(1-j%2),j] *L[ii,:ii+(1-j%2)]).sum()\n",
    "            #print(value)\n",
    "            U[ii,j] = value\n",
    "    updatedable = [b for b in basis if b>j]\n",
    "    for ii,i in enumerate(basis):\n",
    "        if i > j:\n",
    "            if len(updatedable)>d.d:\n",
    "                #print(\"shortcut\")\n",
    "                value = PA[ii,j] / U[j,j]\n",
    "            else:\n",
    "                #print( (PA[ii,j] -(L[ii,range(j%d.d)] * U[range(j%d.d),j]).sum()), U[diags[j],j])\n",
    "                value = (PA[ii,j] -(L[ii,range(j%d.d)] * U[range(j%d.d),j]).sum()) / U[diags[j],j]\n",
    "\n",
    "                #print(value)\n",
    "\n",
    "            L[ii,j] = value"
   ]
  },
  {
   "cell_type": "code",
   "execution_count": 252,
   "metadata": {
    "collapsed": false
   },
   "outputs": [
    {
     "name": "stdout",
     "output_type": "stream",
     "text": [
      "[[0.85997415 0.         0.         0.         0.         0.        ]\n",
      " [0.         0.         0.         0.         0.         0.        ]\n",
      " [0.         0.         0.         0.         0.         0.        ]]\n"
     ]
    }
   ],
   "source": [
    "print(U)"
   ]
  },
  {
   "cell_type": "code",
   "execution_count": 253,
   "metadata": {
    "collapsed": false
   },
   "outputs": [
    {
     "name": "stdout",
     "output_type": "stream",
     "text": [
      "[[ 0.85997415  0.          1.0397054   0.         -1.8338536   0.        ]\n",
      " [ 0.         -1.51740086  0.         -0.12726651  0.         -0.70463437]\n",
      " [ 0.          0.         -1.08261909  0.          2.18180403  0.        ]\n",
      " [ 0.          0.          0.          1.80810612  0.          0.01433188]\n",
      " [ 0.          0.          0.          0.          2.02440699  0.        ]\n",
      " [ 0.          0.          0.          0.          0.          0.85796261]]\n"
     ]
    }
   ],
   "source": [
    "print(u)"
   ]
  },
  {
   "cell_type": "code",
   "execution_count": 254,
   "metadata": {
    "collapsed": false
   },
   "outputs": [
    {
     "name": "stdout",
     "output_type": "stream",
     "text": [
      "[[ 1.          0.          0.          0.          0.          0.        ]\n",
      " [ 0.          1.          0.          0.          0.          0.        ]\n",
      " [ 0.63742576  0.          1.          0.          0.          0.        ]\n",
      " [ 0.          0.34059506  0.          1.          0.          0.        ]\n",
      " [ 0.07055672  0.         -0.20351399  0.          1.          0.        ]\n",
      " [ 0.         -0.8074522   0.          0.68515645  0.          1.        ]]\n"
     ]
    }
   ],
   "source": [
    "print(l)"
   ]
  },
  {
   "cell_type": "code",
   "execution_count": 271,
   "metadata": {
    "collapsed": false
   },
   "outputs": [
    {
     "name": "stdout",
     "output_type": "stream",
     "text": [
      "[[ 1.          0.          0.          0.          0.          0.        ]\n",
      " [ 0.          1.          0.          0.          0.          0.        ]\n",
      " [ 0.63742576  0.          1.          0.          0.          0.        ]\n",
      " [ 0.          0.34059506  0.          1.          0.          0.        ]\n",
      " [ 0.07055672  0.         -0.20351399  0.          1.          0.        ]\n",
      " [ 0.         -0.8074522   0.          0.68515645  0.          1.        ]]\n"
     ]
    }
   ],
   "source": [
    "print(l)"
   ]
  },
  {
   "cell_type": "code",
   "execution_count": 255,
   "metadata": {
    "collapsed": false
   },
   "outputs": [
    {
     "name": "stdout",
     "output_type": "stream",
     "text": [
      "[[1.         1.         0.         0.         0.         0.        ]\n",
      " [0.63742576 0.         1.         1.         0.         0.        ]\n",
      " [0.07055672 0.         0.         0.         1.         1.        ]]\n"
     ]
    }
   ],
   "source": [
    "print(L)"
   ]
  },
  {
   "cell_type": "code",
   "execution_count": 241,
   "metadata": {
    "collapsed": false
   },
   "outputs": [],
   "source": [
    "pa,l,u = d.plu()"
   ]
  },
  {
   "cell_type": "code",
   "execution_count": 167,
   "metadata": {
    "collapsed": false
   },
   "outputs": [
    {
     "name": "stdout",
     "output_type": "stream",
     "text": [
      "[[1.         1.         0.         0.         0.         0.        ]\n",
      " [0.02926848 0.         1.         1.         0.         0.        ]\n",
      " [0.93516406 0.         0.         0.         1.         1.        ]]\n"
     ]
    }
   ],
   "source": [
    "print(L)"
   ]
  },
  {
   "cell_type": "code",
   "execution_count": 87,
   "metadata": {
    "collapsed": true
   },
   "outputs": [],
   "source": [
    "\n",
    "def get_permutation_dense(diag):\n",
    "    diags = np.repeat(np.arange(0,diag.n),diag.d)\n",
    "    updated = diag.row_based.copy()\n",
    "    for c in range(updated.shape[1]):\n",
    "        max_idx = np.argmax(np.abs(d.row_based[diags[c]:,c]))\n",
    "        max_idx += diags[c]\n",
    "        if (max_idx != diags[c]):\n",
    "            order = swap_elements(list(range(updated.shape[0])),max_idx,diags[c])\n",
    "            basis = diag.basis[c%diag.d]\n",
    "            updated[:,basis] = updated[:,basis][[order],:]\n",
    "    return updated\n",
    "        \n",
    "    \n",
    "    \n",
    "    "
   ]
  },
  {
   "cell_type": "code",
   "execution_count": 41,
   "metadata": {
    "collapsed": true
   },
   "outputs": [],
   "source": [
    "def create_pivot(mat):\n",
    "    mat_size = mat.shape[0]\n",
    "    p_blank = np.eye(mat_size)\n",
    "    for c in range(mat_size):\n",
    "        row = max(range(c, mat_size), key=lambda i: abs(mat[i,c]))\n",
    "        if c != row:\n",
    "            p_blank[[c,row]] = p_blank[[row,c]]\n",
    "        \n",
    "            \n",
    "    return p_blank"
   ]
  },
  {
   "cell_type": "code",
   "execution_count": 89,
   "metadata": {
    "collapsed": true
   },
   "outputs": [],
   "source": [
    "def swap_elements(l,i,j):\n",
    "    new = l.copy()\n",
    "    new[i],new[j] = j,i\n",
    "    return new"
   ]
  },
  {
   "cell_type": "code",
   "execution_count": 124,
   "metadata": {
    "collapsed": true
   },
   "outputs": [],
   "source": [
    "def pivot_matrix(M):\n",
    "    \"\"\"Returns the pivoting matrix for M, used in Doolittle's method.\"\"\"\n",
    "    m = len(M)\n",
    "\n",
    "    # Create an identity matrix, with floating point values                                                                                                                                                                                            \n",
    "    id_mat = [[float(i ==j) for i in range(m)] for j in range(m)]\n",
    "\n",
    "    # Rearrange the identity matrix such that the largest element of                                                                                                                                                                                   \n",
    "    # each column of M is placed on the diagonal of of M                                                                                                                                                                                               \n",
    "    for j in range(m):\n",
    "        row = max(range(j, m), key=lambda i: abs(M[i][j]))\n",
    "        if j != row:\n",
    "            # Swap the rows                                                                                                                                                                                                                            \n",
    "            id_mat[j], id_mat[row] = id_mat[row], id_mat[j]\n",
    "\n",
    "    return id_mat\n"
   ]
  },
  {
   "cell_type": "code",
   "execution_count": 17,
   "metadata": {
    "collapsed": false
   },
   "outputs": [
    {
     "data": {
      "text/plain": [
       "[array([ 0, 10, 20, 30, 40, 50, 60, 70, 80, 90]),\n",
       " array([ 1, 11, 21, 31, 41, 51, 61, 71, 81, 91]),\n",
       " array([ 2, 12, 22, 32, 42, 52, 62, 72, 82, 92]),\n",
       " array([ 3, 13, 23, 33, 43, 53, 63, 73, 83, 93]),\n",
       " array([ 4, 14, 24, 34, 44, 54, 64, 74, 84, 94]),\n",
       " array([ 5, 15, 25, 35, 45, 55, 65, 75, 85, 95]),\n",
       " array([ 6, 16, 26, 36, 46, 56, 66, 76, 86, 96]),\n",
       " array([ 7, 17, 27, 37, 47, 57, 67, 77, 87, 97]),\n",
       " array([ 8, 18, 28, 38, 48, 58, 68, 78, 88, 98]),\n",
       " array([ 9, 19, 29, 39, 49, 59, 69, 79, 89, 99])]"
      ]
     },
     "execution_count": 17,
     "metadata": {},
     "output_type": "execute_result"
    }
   ],
   "source": [
    "d.basis"
   ]
  },
  {
   "cell_type": "code",
   "execution_count": 40,
   "metadata": {
    "collapsed": true
   },
   "outputs": [],
   "source": [
    "def lu_decomp(mat):\n",
    "    n = mat.shape[0]\n",
    "    L = np.eye(n)\n",
    "    U = np.zeros((n,n))\n",
    "    P = create_pivot(mat)\n",
    "    PA = P.dot(mat)\n",
    "    for j in range(n):\n",
    "        for i in range(j+1):\n",
    "            #print('U')\n",
    "            s1 = sum(U[k,j] * L[i,k] for k in range(i))\n",
    "            #print(i,j,s1)\n",
    "            U[i,j] = PA[i,j]- s1\n",
    "            #print(U)\n",
    "        for i in range(j, n):\n",
    "            #print('L')\n",
    "            s2 = sum(U[k,j] * L[i,k] for k in range(j))\n",
    "            #print(i,j,s2,U[j,j])\n",
    "            L[i,j] = (PA[i,j] - s2) / U[j,j]\n",
    "            #print(L)\n",
    "    return(P,L,U)\n",
    "\n",
    "    "
   ]
  },
  {
   "cell_type": "code",
   "execution_count": 15,
   "metadata": {
    "collapsed": true
   },
   "outputs": [],
   "source": [
    "def plu(diag,PA):\n",
    "    L = np.eye(diag.area)\n",
    "    U = np.zeros((diag.area,diag.area))\n",
    "    #P = create_pivot(diag.from_dense(diag.matrix))\n",
    "    #PA = get_permutation_dense(diag)\n",
    "    \n",
    "    for j in range(diag.area):\n",
    "    \n",
    "        basis = diag.basis[j%diag.d]\n",
    "        updatedable = [b for b in basis if b<=j]\n",
    "\n",
    "        for ii,i in enumerate(basis):\n",
    "            if i <= j:\n",
    "                if len(updatedable) == 1:\n",
    "                    value = PA[ii,j]\n",
    "                else:\n",
    "                    value= PA[ii,j] - (U[updatedable[:ii+(1-j%2)],j] *L[basis[ii],updatedable[:ii+(1-j%2)]]).sum()\n",
    "                U[i,j] = value\n",
    "\n",
    "        updatedable = [b for b in basis if b>j]\n",
    "        for ii,i in enumerate(basis):\n",
    "            if i > j:\n",
    "                if len(updatedable)>1:\n",
    "                    value = PA[ii,j] / U[j,j]\n",
    "                else:\n",
    "                    value = (PA[ii,j] -(U[basis[:ii],j] * L[updatedable,basis[:ii]]).sum()) / U[j,j]\n",
    "\n",
    "                L[i,j] = value\n",
    "            \n",
    "    \n",
    "    return(PA,L,U)\n",
    "    \n",
    "    "
   ]
  },
  {
   "cell_type": "code",
   "execution_count": 620,
   "metadata": {
    "collapsed": false
   },
   "outputs": [],
   "source": [
    "d = Diagonal(3,2)\n",
    "mat = d.from_dense(d.matrix)"
   ]
  },
  {
   "cell_type": "code",
   "execution_count": 621,
   "metadata": {
    "collapsed": false
   },
   "outputs": [],
   "source": [
    "PA,L,U = d.plu()"
   ]
  },
  {
   "cell_type": "code",
   "execution_count": 452,
   "metadata": {
    "collapsed": false
   },
   "outputs": [],
   "source": [
    "p,l,u = la.lu(mat)"
   ]
  },
  {
   "cell_type": "code",
   "execution_count": 622,
   "metadata": {
    "collapsed": false
   },
   "outputs": [],
   "source": [
    "sparse_l = d.to_dense(L)"
   ]
  },
  {
   "cell_type": "code",
   "execution_count": 623,
   "metadata": {
    "collapsed": false
   },
   "outputs": [],
   "source": [
    "sparse_u = d.to_dense(U)"
   ]
  },
  {
   "cell_type": "code",
   "execution_count": 609,
   "metadata": {
    "collapsed": true
   },
   "outputs": [],
   "source": [
    "b = np.eye(6)"
   ]
  },
  {
   "cell_type": "code",
   "execution_count": 580,
   "metadata": {
    "collapsed": false
   },
   "outputs": [
    {
     "data": {
      "text/plain": [
       "6"
      ]
     },
     "execution_count": 580,
     "metadata": {},
     "output_type": "execute_result"
    }
   ],
   "source": [
    "len(b)"
   ]
  },
  {
   "cell_type": "code",
   "execution_count": 595,
   "metadata": {
    "collapsed": false
   },
   "outputs": [
    {
     "name": "stdout",
     "output_type": "stream",
     "text": [
      "[[ 1.          0.          0.          0.          0.          0.        ]\n",
      " [ 0.          1.          0.          0.          0.          0.        ]\n",
      " [-0.96037933  0.          1.          0.          0.          0.        ]\n",
      " [ 0.          0.37460499  0.          1.          0.          0.        ]\n",
      " [ 0.37997333  0.          0.32063421  0.          1.          0.        ]\n",
      " [ 0.          0.120649    0.         -0.24214645  0.          1.        ]]\n"
     ]
    }
   ],
   "source": [
    "print(d.forward(sparse_l,b))"
   ]
  },
  {
   "cell_type": "code",
   "execution_count": 624,
   "metadata": {
    "collapsed": false
   },
   "outputs": [
    {
     "name": "stdout",
     "output_type": "stream",
     "text": [
      "[[ 1.33963476  0.          0.01947037  0.         -4.55089446  0.        ]\n",
      " [ 0.          1.0619707   0.         -0.70103643  0.         -0.26042726]\n",
      " [-0.         -0.         -0.50702325 -0.         -0.06052428 -0.        ]\n",
      " [ 0.          0.          0.          0.6593636   0.         -0.22638935]\n",
      " [-0.         -0.         -0.         -0.         -3.78363249 -0.        ]\n",
      " [-0.         -0.         -0.         -0.         -0.         -0.48167143]]\n"
     ]
    }
   ],
   "source": [
    "print(d.backwards(sparse_u,b))"
   ]
  },
  {
   "cell_type": "code",
   "execution_count": 440,
   "metadata": {
    "collapsed": false
   },
   "outputs": [],
   "source": [
    "b = np.array([[1,2,3,4,5,6],[1,2,3,4,5,6]]).T\n",
    "solution = np.zeros(b.shape)\n",
    "#solution[-1] = b[-1]/sparse_u[-1,-1] "
   ]
  },
  {
   "cell_type": "code",
   "execution_count": 482,
   "metadata": {
    "collapsed": false
   },
   "outputs": [],
   "source": [
    "b = np.eye(6)"
   ]
  },
  {
   "cell_type": "code",
   "execution_count": 522,
   "metadata": {
    "collapsed": false
   },
   "outputs": [
    {
     "name": "stdout",
     "output_type": "stream",
     "text": [
      "[[1.         0.         0.        ]\n",
      " [1.         0.         0.        ]\n",
      " [0.60890064 1.         0.        ]\n",
      " [0.35864555 1.         0.        ]\n",
      " [0.84581557 2.09154927 1.        ]\n",
      " [0.74999222 0.59483319 1.        ]]\n"
     ]
    }
   ],
   "source": [
    "print(sparse_l)"
   ]
  },
  {
   "cell_type": "code",
   "execution_count": 484,
   "metadata": {
    "collapsed": false
   },
   "outputs": [
    {
     "name": "stdout",
     "output_type": "stream",
     "text": [
      "[[ 1.          1.          1.          1.          1.          1.        ]\n",
      " [ 0.          1.          0.          0.          0.          0.        ]\n",
      " [-0.60890064 -0.60890064  0.39109936 -0.60890064 -0.60890064 -0.60890064]\n",
      " [ 0.         -0.35864555  0.          1.          0.          0.        ]\n",
      " [ 0.42773012  0.42773012 -1.66381915  0.42773012  1.42773012  0.42773012]\n",
      " [ 0.         -0.53665795  0.         -0.59483319  0.          1.        ]]\n"
     ]
    }
   ],
   "source": [
    "print(d.forward(sparse_l,b))"
   ]
  },
  {
   "cell_type": "code",
   "execution_count": 625,
   "metadata": {
    "collapsed": false
   },
   "outputs": [
    {
     "name": "stdout",
     "output_type": "stream",
     "text": [
      "[[ 1.33963476  0.          0.01947037  0.         -4.55089446  0.        ]\n",
      " [ 0.          1.0619707   0.         -0.70103643  0.         -0.26042726]\n",
      " [-0.         -0.         -0.50702325 -0.         -0.06052428 -0.        ]\n",
      " [ 0.          0.          0.          0.6593636   0.         -0.22638935]\n",
      " [-0.         -0.         -0.         -0.         -3.78363249 -0.        ]\n",
      " [-0.         -0.         -0.         -0.         -0.         -0.48167143]]\n"
     ]
    }
   ],
   "source": [
    "print(np.linalg.solve(U,b))"
   ]
  },
  {
   "cell_type": "code",
   "execution_count": 598,
   "metadata": {
    "collapsed": true
   },
   "outputs": [],
   "source": [
    "b = np.array([0,0,0,0,0,1])"
   ]
  },
  {
   "cell_type": "code",
   "execution_count": 607,
   "metadata": {
    "collapsed": false
   },
   "outputs": [
    {
     "name": "stdout",
     "output_type": "stream",
     "text": [
      "[ 0.         -0.34374482  0.          0.68023762  0.         -1.18028791]\n"
     ]
    }
   ],
   "source": [
    "print(solve(sparse_u,b))"
   ]
  },
  {
   "cell_type": "code",
   "execution_count": null,
   "metadata": {
    "collapsed": true
   },
   "outputs": [],
   "source": [
    "x = np.zeros(b.shape)\n",
    "for i in range(b.shape[0])[::-1]:\n",
    "    basis = d.basis[i%d.d][::-1]\n",
    "    subset = [s for s in basis if s >i]\n",
    "    x[i] = (b[i] -(sparse_u[i][diags[i]+1:] *x[subset][::-1].T).sum(1)) / sparse_l[i,diags[i]]\n",
    "return x"
   ]
  },
  {
   "cell_type": "code",
   "execution_count": 535,
   "metadata": {
    "collapsed": false
   },
   "outputs": [],
   "source": [
    "b = np.eye(6)\n",
    "solution = np.zeros(b.shape)\n",
    "for e,c in enumerate(range(b.shape[1])):\n",
    "    for i in range(b.shape[0]):\n",
    "        \n",
    "        basis = d.basis[i%d.d]\n",
    "        subset = [s for s in basis if s <i]\n",
    "        if i in basis:\n",
    "            solution[i,c] = (b[i,c] - (sparse_l[i][:diags[i]] *solution[subset].T).sum()) / sparse_l[i,diags[i]]"
   ]
  },
  {
   "cell_type": "code",
   "execution_count": 605,
   "metadata": {
    "collapsed": false
   },
   "outputs": [],
   "source": [
    "def solve(A,b):\n",
    "    x = np.zeros(b.shape)\n",
    "    for i in range(b.shape[0])[::-1]:\n",
    "        basis = d.basis[i%d.d][::-1]\n",
    "        subset = [s for s in basis if s >i]\n",
    "        x[i] = (b[i] -(A[i][diags[i]+1:] *x[subset][::-1].T).sum()) / A[i,diags[i]]\n",
    "    return x\n",
    "        "
   ]
  },
  {
   "cell_type": "code",
   "execution_count": 546,
   "metadata": {
    "collapsed": false
   },
   "outputs": [
    {
     "name": "stdout",
     "output_type": "stream",
     "text": [
      "[[ 1.          0.          0.          0.          0.          0.        ]\n",
      " [ 0.          1.          0.          0.          0.          0.        ]\n",
      " [-0.60890064  0.          1.          0.          0.          0.        ]\n",
      " [ 0.         -0.35864555  0.          1.          0.          0.        ]\n",
      " [ 0.42773012  0.         -2.09154927  0.          1.          0.        ]\n",
      " [ 0.         -0.53665795  0.         -0.59483319  0.          1.        ]]\n"
     ]
    }
   ],
   "source": [
    "print(np.hstack([solve(sparse_l,b[:,i])[...,None] for i in range(6)]))"
   ]
  },
  {
   "cell_type": "code",
   "execution_count": null,
   "metadata": {
    "collapsed": true
   },
   "outputs": [],
   "source": []
  },
  {
   "cell_type": "code",
   "execution_count": 536,
   "metadata": {
    "collapsed": false
   },
   "outputs": [
    {
     "name": "stdout",
     "output_type": "stream",
     "text": [
      "[[ 1.          0.          0.          0.          0.          0.        ]\n",
      " [ 0.          1.          0.          0.          0.          0.        ]\n",
      " [-0.60890064 -0.60890064  0.39109936 -0.60890064 -0.60890064 -0.60890064]\n",
      " [ 0.         -0.35864555 -0.35864555  0.64135445 -0.35864555 -0.35864555]\n",
      " [ 0.42773012  1.70127582  0.88327224  2.15681793  4.43036362  4.70390932]\n",
      " [ 0.         -0.53665795 -0.32332367 -0.70482259 -0.49148831  0.72184596]]\n"
     ]
    }
   ],
   "source": [
    "print(solution)"
   ]
  },
  {
   "cell_type": "code",
   "execution_count": null,
   "metadata": {
    "collapsed": true
   },
   "outputs": [],
   "source": [
    "solution = sparse_l.shape\n",
    "for i in range(1,b.shape[0]):\n",
    "    basis = d.basis[i%d.d]\n",
    "    subset = [s for s in basis if s <i]\n",
    "    solution[i] = (x[i] - (sparse_l[i][:diags[i]] *solution[subset,:].T).sum(1)) / sparse_l[i,diags[i]]"
   ]
  },
  {
   "cell_type": "code",
   "execution_count": 485,
   "metadata": {
    "collapsed": false
   },
   "outputs": [
    {
     "name": "stdout",
     "output_type": "stream",
     "text": [
      "[[1.         0.         0.         0.         0.         0.        ]\n",
      " [0.         1.         0.         0.         0.         0.        ]\n",
      " [0.60890064 0.         1.         0.         0.         0.        ]\n",
      " [0.         0.35864555 0.         1.         0.         0.        ]\n",
      " [0.84581557 0.         2.09154927 0.         1.         0.        ]\n",
      " [0.         0.74999222 0.         0.59483319 0.         1.        ]]\n"
     ]
    }
   ],
   "source": [
    "print(L)"
   ]
  },
  {
   "cell_type": "code",
   "execution_count": 448,
   "metadata": {
    "collapsed": false
   },
   "outputs": [],
   "source": [
    "solution = d.backwards(sparse_u,y)"
   ]
  },
  {
   "cell_type": "code",
   "execution_count": 455,
   "metadata": {
    "collapsed": false
   },
   "outputs": [
    {
     "name": "stdout",
     "output_type": "stream",
     "text": [
      "[[ 1.00000000e+00  1.00000000e+00  1.00000000e+00  1.00000000e+00\n",
      "   1.00000000e+00  1.00000000e+00]\n",
      " [ 0.00000000e+00  1.00000000e+00  0.00000000e+00 -2.98928250e-17\n",
      "   0.00000000e+00  6.35503145e-17]\n",
      " [ 1.47366739e-16  1.47366739e-16 -4.08345267e-16  1.47366739e-16\n",
      "   1.00000000e+00  1.47366739e-16]\n",
      " [ 0.00000000e+00  1.16819178e-16  0.00000000e+00  1.00000000e+00\n",
      "   0.00000000e+00 -4.09152979e-17]\n",
      " [ 2.22044605e-16  2.22044605e-16  1.00000000e+00  2.22044605e-16\n",
      "  -8.88178420e-16  2.22044605e-16]\n",
      " [ 0.00000000e+00  1.24900090e-16  0.00000000e+00 -1.11022302e-16\n",
      "   0.00000000e+00  1.00000000e+00]]\n"
     ]
    }
   ],
   "source": [
    "print(np.dot(p.dot(mat),solution))"
   ]
  },
  {
   "cell_type": "code",
   "execution_count": 444,
   "metadata": {
    "collapsed": false
   },
   "outputs": [
    {
     "name": "stdout",
     "output_type": "stream",
     "text": [
      "[[-13.65727729 -13.65727729]\n",
      " [ 43.93688981  43.93688981]\n",
      " [ 19.87703467  19.87703467]\n",
      " [ 11.56212162  11.56212162]\n",
      " [ -6.11669725  -6.11669725]\n",
      " [  2.30417512   2.30417512]]\n"
     ]
    }
   ],
   "source": [
    "print(np.linalg.solve(U,b))"
   ]
  },
  {
   "cell_type": "code",
   "execution_count": 434,
   "metadata": {
    "collapsed": true
   },
   "outputs": [],
   "source": [
    "def backwards(self,A,b):\n",
    "    x = np.zeros(b.shape)\n",
    "    for i in range(b.shape[0])[::-1]:\n",
    "        basis = self.basis[i%self.d][::-1]\n",
    "        subset = [s for s in basis if s >i]\n",
    "        x[i] = (b[i] -(A[i][diags[i]+1:] *x[subset,:][::-1].T).sum(1)) / A[i,diags[i]]\n",
    "    return x"
   ]
  },
  {
   "cell_type": "code",
   "execution_count": 432,
   "metadata": {
    "collapsed": false
   },
   "outputs": [
    {
     "name": "stdout",
     "output_type": "stream",
     "text": [
      "[6 6] [] []\n",
      "[5 5] [] []\n",
      "[4 4] [-1.48755126] [7.0793227]\n",
      "[3 3] [2.42922992] [-1.88850174]\n",
      "[2 2] [ 2.06624937 -0.84966171] [4.30046056 7.0793227 ]\n",
      "[1 1] [-0.63479936 -0.33817631] [-8.00621615 -1.88850174]\n"
     ]
    }
   ],
   "source": [
    "\n",
    "    #print(sparse_u[i,diags[i]])\n",
    "    \n",
    "    "
   ]
  },
  {
   "cell_type": "code",
   "execution_count": 314,
   "metadata": {
    "collapsed": false
   },
   "outputs": [
    {
     "name": "stdout",
     "output_type": "stream",
     "text": [
      "[[ 0.93168247 -0.63479936 -0.33817631]\n",
      " [ 1.33463264  2.06624937 -0.84966171]\n",
      " [ 0.         -0.94771423  2.42922992]\n",
      " [ 0.          3.3789068  -1.48755126]\n",
      " [ 0.          0.         -2.64760147]\n",
      " [ 0.          0.          0.84753871]]\n"
     ]
    }
   ],
   "source": [
    "print(sparse_u)"
   ]
  },
  {
   "cell_type": "code",
   "execution_count": 271,
   "metadata": {
    "collapsed": false
   },
   "outputs": [],
   "source": [
    "diags = np.repeat(np.arange(0,d.n),d.d)"
   ]
  },
  {
   "cell_type": "code",
   "execution_count": null,
   "metadata": {
    "collapsed": true
   },
   "outputs": [],
   "source": [
    "def forward(a,x):\n",
    "    b = np.zeros(x.shape)\n",
    "    b[0] = a[0,0]\n",
    "    for i in range(1,b.shape[0]):\n",
    "        basis = d.basis[i%d.d]\n",
    "        subset = [s for s in basis if s <i]\n",
    "        solution[i] = (x[i] - (sparse_l[i][:diags[i]] *solution[subset,:].T).sum(1)) / sparse_l[i,diags[i]]"
   ]
  },
  {
   "cell_type": "code",
   "execution_count": 280,
   "metadata": {
    "collapsed": false
   },
   "outputs": [],
   "source": [
    "for i in range(1,solution.shape[0]):\n",
    "    basis = d.basis[i%d.d]\n",
    "    subset = [s for s in basis if s <i]\n",
    "    solution[i] = (b[i] - (sparse_l[i][:diags[i]] *solution[subset,:].T).sum(1)) / sparse_l[i,diags[i]]"
   ]
  },
  {
   "cell_type": "code",
   "execution_count": 181,
   "metadata": {
    "collapsed": false
   },
   "outputs": [
    {
     "name": "stdout",
     "output_type": "stream",
     "text": [
      "2 [] [] 0.0\n",
      "3 [-0.11596257] [1.] -0.11596256916683961\n",
      "4 [0.17888942] [2.] 0.3577788300007127\n",
      "5 [-0.62343041  0.35067001] [1.         3.11596257] 0.4692442153292292\n",
      "6 [ 0.32108005 -0.5435611 ] [2.         3.64222117] -1.3376096425877981\n"
     ]
    }
   ],
   "source": [
    "for i in range(1,solution.shape[0]):\n",
    "    basis = d.basis[i%d.d]\n",
    "    subset = [s for s in basis if s <i]\n",
    "    print(x[i],sparse_l[i][:diags[i]] ,solution[subset].T,(sparse_l[i][:diags[i]] *solution[subset].T).sum())\n",
    "    solution[i] = (x[i] - (sparse_l[i][:diags[i]] *solution[subset].T).sum()) / sparse_l[i,diags[i]]\n",
    "        "
   ]
  },
  {
   "cell_type": "code",
   "execution_count": 165,
   "metadata": {
    "collapsed": false
   },
   "outputs": [
    {
     "data": {
      "text/plain": [
       "array([[1.        , 1.        ],\n",
       "       [2.        , 2.        ],\n",
       "       [3.23192514, 3.23192514],\n",
       "       [3.28444234, 3.28444234],\n",
       "       [3.98018238, 3.98018238],\n",
       "       [8.28626998, 8.28626998]])"
      ]
     },
     "execution_count": 165,
     "metadata": {},
     "output_type": "execute_result"
    }
   ],
   "source": [
    "solution"
   ]
  },
  {
   "cell_type": "code",
   "execution_count": 167,
   "metadata": {
    "collapsed": false
   },
   "outputs": [
    {
     "name": "stdout",
     "output_type": "stream",
     "text": [
      "\n"
     ]
    },
    {
     "ename": "ValueError",
     "evalue": "operands could not be broadcast together with shapes (0,) (0,2) ",
     "output_type": "error",
     "traceback": [
      "\u001b[0;31m---------------------------------------------------------------------------\u001b[0m",
      "\u001b[0;31mValueError\u001b[0m                                Traceback (most recent call last)",
      "\u001b[0;32m<ipython-input-167-e2e4923ba88d>\u001b[0m in \u001b[0;36m<module>\u001b[0;34m()\u001b[0m\n\u001b[1;32m      3\u001b[0m     \u001b[0msubset\u001b[0m \u001b[0;34m=\u001b[0m \u001b[0;34m[\u001b[0m\u001b[0ms\u001b[0m \u001b[0;32mfor\u001b[0m \u001b[0ms\u001b[0m \u001b[0;32min\u001b[0m \u001b[0mbasis\u001b[0m \u001b[0;32mif\u001b[0m \u001b[0ms\u001b[0m \u001b[0;34m<\u001b[0m\u001b[0mi\u001b[0m\u001b[0;34m]\u001b[0m\u001b[0;34m\u001b[0m\u001b[0m\n\u001b[1;32m      4\u001b[0m     \u001b[0mprint\u001b[0m\u001b[0;34m(\u001b[0m\u001b[0;34m)\u001b[0m\u001b[0;34m\u001b[0m\u001b[0m\n\u001b[0;32m----> 5\u001b[0;31m     \u001b[0msolution\u001b[0m\u001b[0;34m[\u001b[0m\u001b[0mi\u001b[0m\u001b[0;34m]\u001b[0m \u001b[0;34m=\u001b[0m \u001b[0;34m(\u001b[0m\u001b[0mx\u001b[0m\u001b[0;34m[\u001b[0m\u001b[0mi\u001b[0m\u001b[0;34m]\u001b[0m \u001b[0;34m-\u001b[0m \u001b[0;34m(\u001b[0m\u001b[0msparse_l\u001b[0m\u001b[0;34m[\u001b[0m\u001b[0mi\u001b[0m\u001b[0;34m]\u001b[0m\u001b[0;34m[\u001b[0m\u001b[0;34m:\u001b[0m\u001b[0mdiags\u001b[0m\u001b[0;34m[\u001b[0m\u001b[0mi\u001b[0m\u001b[0;34m]\u001b[0m\u001b[0;34m]\u001b[0m \u001b[0;34m*\u001b[0m\u001b[0msolution\u001b[0m\u001b[0;34m[\u001b[0m\u001b[0msubset\u001b[0m\u001b[0;34m,\u001b[0m\u001b[0;34m:\u001b[0m\u001b[0;34m]\u001b[0m\u001b[0;34m)\u001b[0m\u001b[0;34m.\u001b[0m\u001b[0msum\u001b[0m\u001b[0;34m(\u001b[0m\u001b[0;34m)\u001b[0m\u001b[0;34m)\u001b[0m \u001b[0;34m/\u001b[0m \u001b[0msparse_l\u001b[0m\u001b[0;34m[\u001b[0m\u001b[0mi\u001b[0m\u001b[0;34m,\u001b[0m\u001b[0mdiags\u001b[0m\u001b[0;34m[\u001b[0m\u001b[0mi\u001b[0m\u001b[0;34m]\u001b[0m\u001b[0;34m]\u001b[0m\u001b[0;34m\u001b[0m\u001b[0m\n\u001b[0m\u001b[1;32m      6\u001b[0m \u001b[0;34m\u001b[0m\u001b[0m\n\u001b[1;32m      7\u001b[0m \u001b[0;34m\u001b[0m\u001b[0m\n",
      "\u001b[0;31mValueError\u001b[0m: operands could not be broadcast together with shapes (0,) (0,2) "
     ]
    }
   ],
   "source": [
    "for i in range(1,solution.shape[0]):\n",
    "    basis = d.basis[i%d.d]\n",
    "    subset = [s for s in basis if s <i]\n",
    "    print()\n",
    "    solution[i] = (x[i] - (sparse_l[i][:diags[i]] *solution[subset,:].T).sum()) / sparse_l[i,diags[i]]\n",
    "    \n",
    "    \n",
    "    "
   ]
  },
  {
   "cell_type": "code",
   "execution_count": 21,
   "metadata": {
    "collapsed": false
   },
   "outputs": [],
   "source": [
    "i = 2"
   ]
  },
  {
   "cell_type": "code",
   "execution_count": 26,
   "metadata": {
    "collapsed": false
   },
   "outputs": [
    {
     "data": {
      "text/plain": [
       "1.5"
      ]
     },
     "execution_count": 26,
     "metadata": {},
     "output_type": "execute_result"
    }
   ],
   "source": [
    "(a[i] - (x[:i] * solution[:i])[-1].sum())/x[i,i]"
   ]
  },
  {
   "cell_type": "code",
   "execution_count": 47,
   "metadata": {
    "collapsed": false
   },
   "outputs": [
    {
     "data": {
      "text/plain": [
       "0.6666666666666666"
      ]
     },
     "execution_count": 47,
     "metadata": {},
     "output_type": "execute_result"
    }
   ],
   "source": [
    "(a[i] - (x[i][:i] *solution[:i].T).sum()) / x[i,i]"
   ]
  },
  {
   "cell_type": "code",
   "execution_count": 50,
   "metadata": {
    "collapsed": false
   },
   "outputs": [
    {
     "data": {
      "text/plain": [
       "array([[ 2.        ],\n",
       "       [-0.5       ],\n",
       "       [ 0.66666667]])"
      ]
     },
     "execution_count": 50,
     "metadata": {},
     "output_type": "execute_result"
    }
   ],
   "source": [
    "solution"
   ]
  },
  {
   "cell_type": "code",
   "execution_count": 31,
   "metadata": {
    "collapsed": false
   },
   "outputs": [
    {
     "name": "stdout",
     "output_type": "stream",
     "text": [
      "[[1 0 0]\n",
      " [1 2 0]\n",
      " [1 2 3]]\n"
     ]
    }
   ],
   "source": [
    "print(x)"
   ]
  },
  {
   "cell_type": "code",
   "execution_count": 32,
   "metadata": {
    "collapsed": false
   },
   "outputs": [
    {
     "data": {
      "text/plain": [
       "array([ 2.        , -0.5       ,  0.66666667])"
      ]
     },
     "execution_count": 32,
     "metadata": {},
     "output_type": "execute_result"
    }
   ],
   "source": [
    "np.linalg.solve(x,a)"
   ]
  },
  {
   "cell_type": "code",
   "execution_count": null,
   "metadata": {
    "collapsed": true
   },
   "outputs": [],
   "source": []
  },
  {
   "cell_type": "code",
   "execution_count": 6,
   "metadata": {
    "collapsed": true
   },
   "outputs": [],
   "source": [
    "a = np.array([2,1,3])"
   ]
  },
  {
   "cell_type": "code",
   "execution_count": 15,
   "metadata": {
    "collapsed": false
   },
   "outputs": [],
   "source": [
    "solution[0]=2"
   ]
  },
  {
   "cell_type": "code",
   "execution_count": 17,
   "metadata": {
    "collapsed": false
   },
   "outputs": [
    {
     "data": {
      "text/plain": [
       "array([[2.]])"
      ]
     },
     "execution_count": 17,
     "metadata": {},
     "output_type": "execute_result"
    }
   ],
   "source": [
    "solution[:1]"
   ]
  },
  {
   "cell_type": "code",
   "execution_count": 10,
   "metadata": {
    "collapsed": false
   },
   "outputs": [
    {
     "name": "stdout",
     "output_type": "stream",
     "text": [
      "[[1 0 0]\n",
      " [1 2 0]\n",
      " [1 2 3]]\n"
     ]
    }
   ],
   "source": [
    "print(x)"
   ]
  },
  {
   "cell_type": "code",
   "execution_count": 8,
   "metadata": {
    "collapsed": false
   },
   "outputs": [
    {
     "data": {
      "text/plain": [
       "array([ 2.        , -0.5       ,  0.66666667])"
      ]
     },
     "execution_count": 8,
     "metadata": {},
     "output_type": "execute_result"
    }
   ],
   "source": [
    "np.linalg.solve(x,a)"
   ]
  },
  {
   "cell_type": "code",
   "execution_count": 29,
   "metadata": {
    "collapsed": false
   },
   "outputs": [
    {
     "ename": "IndexError",
     "evalue": "index 4 is out of bounds for axis 0 with size 3",
     "output_type": "error",
     "traceback": [
      "\u001b[0;31m---------------------------------------------------------------------------\u001b[0m",
      "\u001b[0;31mIndexError\u001b[0m                                Traceback (most recent call last)",
      "\u001b[0;32m<ipython-input-29-89d124ac8d0c>\u001b[0m in \u001b[0;36m<module>\u001b[0;34m()\u001b[0m\n\u001b[0;32m----> 1\u001b[0;31m \u001b[0mL\u001b[0m\u001b[0;34m[\u001b[0m\u001b[0md\u001b[0m\u001b[0;34m.\u001b[0m\u001b[0mbasis\u001b[0m\u001b[0;34m]\u001b[0m\u001b[0;34m\u001b[0m\u001b[0m\n\u001b[0m",
      "\u001b[0;31mIndexError\u001b[0m: index 4 is out of bounds for axis 0 with size 3"
     ]
    }
   ],
   "source": [
    "L[d.basis]"
   ]
  },
  {
   "cell_type": "code",
   "execution_count": null,
   "metadata": {
    "collapsed": true
   },
   "outputs": [],
   "source": []
  },
  {
   "cell_type": "code",
   "execution_count": 40,
   "metadata": {
    "collapsed": false
   },
   "outputs": [
    {
     "name": "stdout",
     "output_type": "stream",
     "text": [
      "[ 1.24610603  0.          0.          0.          0.1129849   0.          0.\n",
      "  0.          0.46757331  0.          0.          0.          0.08257036\n",
      "  0.          0.          0.        ]\n"
     ]
    }
   ],
   "source": [
    "print(np.dot(L,U)[:,0])"
   ]
  },
  {
   "cell_type": "code",
   "execution_count": 285,
   "metadata": {
    "collapsed": false
   },
   "outputs": [
    {
     "data": {
      "text/plain": [
       "2.1676505003124475"
      ]
     },
     "execution_count": 285,
     "metadata": {},
     "output_type": "execute_result"
    }
   ],
   "source": [
    "PA.sum()"
   ]
  },
  {
   "cell_type": "code",
   "execution_count": 13,
   "metadata": {
    "collapsed": false
   },
   "outputs": [
    {
     "data": {
      "text/plain": [
       "True"
      ]
     },
     "execution_count": 13,
     "metadata": {},
     "output_type": "execute_result"
    }
   ],
   "source": [
    "np.allclose(PA.sum(),L.dot(U).sum())"
   ]
  },
  {
   "cell_type": "code",
   "execution_count": 509,
   "metadata": {
    "collapsed": false,
    "scrolled": false
   },
   "outputs": [
    {
     "name": "stdout",
     "output_type": "stream",
     "text": [
      "column 0\n",
      "-1.2403408587\n",
      "-1.2403408587\n",
      "\n",
      "\n",
      "column 1\n",
      "0.0918840765953\n",
      "0.0918840765953\n",
      "\n",
      "\n",
      "column 2\n",
      "-3.49678850919\n",
      "-3.49678850919\n",
      "\n",
      "\n",
      "column 3\n",
      "-0.375688582659\n",
      "-0.375688582659\n",
      "\n",
      "\n",
      "column 4\n",
      "0.450707294047\n",
      "0.450707294047\n",
      "\n",
      "\n",
      "column 5\n",
      "-0.791108518839\n",
      "-0.791108518839\n",
      "\n",
      "\n",
      "column 6\n",
      "-2.14767384529\n",
      "-2.14767384529\n",
      "\n",
      "\n",
      "column 7\n",
      "-0.0029793381691\n",
      "-0.0029793381691\n",
      "\n",
      "\n"
     ]
    }
   ],
   "source": [
    "for i in range(d.area):\n",
    "    print('column {}'.format(i))\n",
    "    print(L.dot(U)[:,i].sum())\n",
    "    print(PA[:,i].sum())\n",
    "    print('\\n')"
   ]
  }
 ],
 "metadata": {
  "kernelspec": {
   "display_name": "Python [conda env:py3]",
   "language": "python",
   "name": "conda-env-py3-py"
  },
  "language_info": {
   "codemirror_mode": {
    "name": "ipython",
    "version": 3
   },
   "file_extension": ".py",
   "mimetype": "text/x-python",
   "name": "python",
   "nbconvert_exporter": "python",
   "pygments_lexer": "ipython3",
   "version": "3.5.4"
  }
 },
 "nbformat": 4,
 "nbformat_minor": 2
}
