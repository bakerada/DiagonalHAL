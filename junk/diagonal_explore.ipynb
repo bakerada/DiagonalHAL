{
 "cells": [
  {
   "cell_type": "code",
   "execution_count": 5,
   "metadata": {
    "collapsed": false
   },
   "outputs": [],
   "source": [
    "import numpy as np\n",
    "import matplotlib.pyplot as plt\n",
    "import scipy.linalg as la\n",
    "import scipy\n",
    "import time\n",
    "#from diagonal import *\n",
    "%matplotlib inline"
   ]
  },
  {
   "cell_type": "code",
   "execution_count": 7,
   "metadata": {
    "collapsed": true
   },
   "outputs": [],
   "source": [
    "class Diagonal:\n",
    "    def __init__(self,n,d,precision='single',sparse=True):\n",
    "        self.n = n\n",
    "        self.d = d\n",
    "        self.area = n*d\n",
    "        self.dims = 2\n",
    "        self.shape = [self.n*self.d,self.n*self.d]\n",
    "        self.precision = np.float32 if 'single' else np.float64\n",
    "        self.sparse= sparse\n",
    "        self.table = self._create_table()\n",
    "        self.matrix = self._create_matrix()\n",
    "        self.basis = self._create_basis()\n",
    "        self.row_based = self._create_row_representation()\n",
    "        \n",
    "    \n",
    "    def _create_basis(self):\n",
    "        return np.split(np.array(self.table[1][:self.area]),self.d)\n",
    "    \n",
    "    def _create_row_representation(self):\n",
    "        row_wise = np.zeros((self.n,self.area))\n",
    "        for ii,i in enumerate(np.repeat(range(self.matrix.shape[1]),self.d)):\n",
    "            row_wise[:,ii] = self.matrix[:,i][ii%self.d::self.d]\n",
    "        return row_wise\n",
    "    def _create_table(self):\n",
    "        ''' \n",
    "            This function will create a lookup table of indicies of where the values in the sparse\n",
    "            representation exist in the full matrix\n",
    "        '''\n",
    "        rows = np.repeat(range(self.area),self.n)\n",
    "        columns = [list(range(i,self.area,self.d)) for i in range(self.d)]\n",
    "        columns = [i for c in columns for i in c] * self.n\n",
    "        return rows,columns\n",
    "    \n",
    "    def _create_zero_matrix(self):\n",
    "        return np.zeros((self.shape)).astype(self.precision)\n",
    "        \n",
    "    \n",
    "    def _create_matrix(self):\n",
    "        \n",
    "        if 1 in[self.n,self.d]:\n",
    "            raise AssertionError('n or d cannot be equal to 1')\n",
    "        populated = self.n**2 * self.d\n",
    "        values = np.random.randn(populated).astype(self.precision)\n",
    "        sparse= np.reshape(values,(self.area, self.n))\n",
    "        return sparse\n",
    "    \n",
    "    def from_dense(self,arr):\n",
    "        ''' \n",
    "            This function will take a dense representation of the sparse matrix\n",
    "            and recreate the sparse matrix\n",
    "        '''\n",
    "        matrix = self._create_zero_matrix()\n",
    "        matrix[self.table] = arr.flatten()\n",
    "        return matrix\n",
    "    \n",
    "    def _sparse_mm(self,y,left=False,batch = True):\n",
    "        if batch:\n",
    "            if left:\n",
    "                batched = np.vstack([y[:,b] for b in self.basis])\n",
    "                batched = np.reshape(batched,(self.d,y.shape[-1],self.n))\n",
    "            else:\n",
    "                batched = np.vstack([y[b,:] for b in self.basis])\n",
    "                batched = np.reshape(batched,(self.d,self.n,y.shape[-1]))\n",
    "            #batched = np.vstack([batched for _ in range(self.n)])\n",
    "        if left:\n",
    "            return np.vstack([np.dot(batched[ii%self.d],i) for ii,i in enumerate(self.row_based.T)]).T\n",
    "        else:\n",
    "            return np.vstack([np.dot(i,batched[ii%self.d]) for ii,i in enumerate(diag.matrix)])\n",
    "        \n",
    "    @staticmethod\n",
    "    def _swap_elements(l,i,j):\n",
    "        new = l.copy()\n",
    "        new[i],new[j] = j,i\n",
    "        return new\n",
    "    \n",
    "    \n",
    "    def get_permutation_dense(self):\n",
    "        diags = np.repeat(np.arange(0,self.n),self.d)\n",
    "        updated = self.row_based.copy()\n",
    "        for c in range(updated.shape[1]):\n",
    "            max_idx = np.argmax(np.abs(self.row_based[diags[c]:,c]))\n",
    "            max_idx += diags[c]\n",
    "            if (max_idx != diags[c]) and (max_idx > diags[c] ):\n",
    "\n",
    "                order = self._swap_elements(list(range(updated.shape[0])),max_idx,diags[c])\n",
    "                basis = self.basis[c%self.d]\n",
    "                updated[:,basis] = updated[:,basis][[order],:]\n",
    "        return updated\n",
    "    \n",
    "    @staticmethod\n",
    "    def create_pivot(mat):\n",
    "        mat_size = mat.shape[0]\n",
    "        p_blank = np.eye(mat_size)\n",
    "        for c in range(mat_size):\n",
    "            row = max(range(c, mat_size), key=lambda i: abs(mat[i,c]))\n",
    "            if c != row:\n",
    "                p_blank[[c,row]] = p_blank[[row,c]]\n",
    "        return p_blank\n",
    "        \n",
    "    \n",
    "    def mm(self,y,x=None,sparse=True,left=False):\n",
    "        if sparse:\n",
    "            return self._sparse_mm(y,left=left)\n",
    "        else:\n",
    "            assert x is not None\n",
    "            return np.dot(x,y)\n",
    "        \n",
    "   \n",
    "        \n",
    "    def plu(self):\n",
    "        L = np.eye(self.area)\n",
    "        U = np.zeros((self.area,self.area))\n",
    "        #P = self.create_pivot(self.from_dense(self.matrix))\n",
    "        PA = self.get_permutation_dense()\n",
    "\n",
    "        for j in range(self.area):\n",
    "\n",
    "            basis = self.basis[j%self.d]\n",
    "            Uupdatedable = [b for b in basis if b<=j]\n",
    "            Lupdatedable = [b for b in basis if b>j]\n",
    "\n",
    "            for ii,i in enumerate(basis):\n",
    "                if i <= j:\n",
    "                    if len(Uupdatedable) == 1:\n",
    "                        value = PA[ii,j]\n",
    "                    else:\n",
    "                        value= PA[ii,j] - (U[Uupdatedable[:ii+(1-j%2)],j] *L[basis[ii],Uupdatedable[:ii+(1-j%2)]]).sum()\n",
    "                    U[i,j] = value\n",
    "\n",
    "                \n",
    "            #for ii,i in enumerate(basis):\n",
    "                if i > j:\n",
    "                    if len(Lupdatedable)>self.d:\n",
    "                        value = PA[ii,j] / U[j,j]\n",
    "                    else:\n",
    "                        value = (PA[ii,j] -(L[basis[ii],range(j)] * U[range(j),j]).sum()) / U[j,j]\n",
    "                    L[i,j] = value\n",
    "\n",
    "\n",
    "        return(PA,L,U)\n",
    "    \n",
    "            \n",
    "        \n",
    "        "
   ]
  },
  {
   "cell_type": "code",
   "execution_count": null,
   "metadata": {
    "collapsed": true
   },
   "outputs": [],
   "source": []
  },
  {
   "cell_type": "code",
   "execution_count": null,
   "metadata": {
    "collapsed": true
   },
   "outputs": [],
   "source": []
  },
  {
   "cell_type": "code",
   "execution_count": null,
   "metadata": {
    "collapsed": true
   },
   "outputs": [],
   "source": []
  },
  {
   "cell_type": "code",
   "execution_count": null,
   "metadata": {
    "collapsed": true
   },
   "outputs": [],
   "source": []
  },
  {
   "cell_type": "code",
   "execution_count": 88,
   "metadata": {
    "collapsed": true
   },
   "outputs": [],
   "source": [
    "import math"
   ]
  },
  {
   "cell_type": "code",
   "execution_count": 3,
   "metadata": {
    "collapsed": true
   },
   "outputs": [],
   "source": [
    "x = np.random.randn(16,16)"
   ]
  },
  {
   "cell_type": "code",
   "execution_count": 3,
   "metadata": {
    "collapsed": true
   },
   "outputs": [],
   "source": [
    "diag = Diagonal(2,2)\n",
    "new_normal = diag.from_dense(diag.matrix)"
   ]
  },
  {
   "cell_type": "code",
   "execution_count": 61,
   "metadata": {
    "collapsed": false
   },
   "outputs": [
    {
     "data": {
      "text/plain": [
       "True"
      ]
     },
     "execution_count": 61,
     "metadata": {},
     "output_type": "execute_result"
    }
   ],
   "source": [
    "np.allclose(diag.mm(x,sparse=True,left=False),diag.mm(x,new_normal,sparse=False))"
   ]
  },
  {
   "cell_type": "code",
   "execution_count": 62,
   "metadata": {
    "collapsed": false
   },
   "outputs": [
    {
     "data": {
      "text/plain": [
       "True"
      ]
     },
     "execution_count": 62,
     "metadata": {},
     "output_type": "execute_result"
    }
   ],
   "source": [
    "np.allclose(diag.mm(x,sparse=True,left=True),diag.mm(new_normal,x,sparse=False,left=True))"
   ]
  },
  {
   "cell_type": "code",
   "execution_count": 28,
   "metadata": {
    "collapsed": false
   },
   "outputs": [
    {
     "name": "stdout",
     "output_type": "stream",
     "text": [
      "7.88 s ± 18.7 ms per loop (mean ± std. dev. of 7 runs, 1 loop each)\n"
     ]
    }
   ],
   "source": [
    "%%timeit\n",
    "np.dot(new_normal,x)"
   ]
  },
  {
   "cell_type": "code",
   "execution_count": 13,
   "metadata": {
    "collapsed": false
   },
   "outputs": [
    {
     "name": "stdout",
     "output_type": "stream",
     "text": [
      "7.910259246826172\n"
     ]
    }
   ],
   "source": [
    "import time\n",
    "start = time.time()\n",
    "diag.mm(x,new_normal,sparse=False)\n",
    "end = time.time()\n",
    "print(end - start)"
   ]
  },
  {
   "cell_type": "code",
   "execution_count": 11,
   "metadata": {
    "collapsed": true
   },
   "outputs": [],
   "source": [
    "def return_time(function,x,kwargs={}):\n",
    "    start = time.time()\n",
    "    function(x,**kwargs)\n",
    "    end = time.time()\n",
    "    return end-start"
   ]
  },
  {
   "cell_type": "code",
   "execution_count": 3,
   "metadata": {
    "collapsed": true
   },
   "outputs": [],
   "source": [
    "def return_time(function,args,kwargs={}):\n",
    "    start = time.time()\n",
    "    function(*args,**kwargs)\n",
    "    end = time.time()\n",
    "    return end-start"
   ]
  },
  {
   "cell_type": "code",
   "execution_count": null,
   "metadata": {
    "collapsed": true
   },
   "outputs": [],
   "source": [
    "def return_time(function,args,kwargs={}):\n",
    "    start = time.time()\n",
    "    function(*args,**kwargs)\n",
    "    end = time.time()\n",
    "    return end-start"
   ]
  },
  {
   "cell_type": "code",
   "execution_count": 10,
   "metadata": {
    "collapsed": false
   },
   "outputs": [
    {
     "data": {
      "text/plain": [
       "108"
      ]
     },
     "execution_count": 10,
     "metadata": {},
     "output_type": "execute_result"
    }
   ],
   "source": [
    "len(dot_times)"
   ]
  },
  {
   "cell_type": "code",
   "execution_count": 8,
   "metadata": {
    "collapsed": false
   },
   "outputs": [
    {
     "name": "stdout",
     "output_type": "stream",
     "text": [
      "10\n",
      "20\n",
      "30\n",
      "40\n",
      "50\n",
      "60\n",
      "70\n",
      "80\n",
      "90\n",
      "100\n"
     ]
    },
    {
     "ename": "KeyboardInterrupt",
     "evalue": "",
     "output_type": "error",
     "traceback": [
      "\u001b[0;31m---------------------------------------------------------------------------\u001b[0m",
      "\u001b[0;31mKeyboardInterrupt\u001b[0m                         Traceback (most recent call last)",
      "\u001b[0;32m<ipython-input-8-1d73d81f2c4d>\u001b[0m in \u001b[0;36m<module>\u001b[0;34m()\u001b[0m\n\u001b[1;32m      4\u001b[0m     \u001b[0mx\u001b[0m \u001b[0;34m=\u001b[0m \u001b[0mnp\u001b[0m\u001b[0;34m.\u001b[0m\u001b[0mrandom\u001b[0m\u001b[0;34m.\u001b[0m\u001b[0mrandn\u001b[0m\u001b[0;34m(\u001b[0m\u001b[0mi\u001b[0m\u001b[0;34m**\u001b[0m\u001b[0;36m2\u001b[0m\u001b[0;34m,\u001b[0m\u001b[0mi\u001b[0m\u001b[0;34m**\u001b[0m\u001b[0;36m2\u001b[0m\u001b[0;34m)\u001b[0m\u001b[0;34m\u001b[0m\u001b[0m\n\u001b[1;32m      5\u001b[0m     \u001b[0my\u001b[0m \u001b[0;34m=\u001b[0m \u001b[0mnp\u001b[0m\u001b[0;34m.\u001b[0m\u001b[0mrandom\u001b[0m\u001b[0;34m.\u001b[0m\u001b[0mrandn\u001b[0m\u001b[0;34m(\u001b[0m\u001b[0mi\u001b[0m\u001b[0;34m**\u001b[0m\u001b[0;36m2\u001b[0m\u001b[0;34m,\u001b[0m\u001b[0mi\u001b[0m\u001b[0;34m**\u001b[0m\u001b[0;36m2\u001b[0m\u001b[0;34m)\u001b[0m\u001b[0;34m\u001b[0m\u001b[0m\n\u001b[0;32m----> 6\u001b[0;31m     \u001b[0mdot_times\u001b[0m\u001b[0;34m.\u001b[0m\u001b[0mappend\u001b[0m\u001b[0;34m(\u001b[0m\u001b[0mreturn_time\u001b[0m\u001b[0;34m(\u001b[0m\u001b[0mnp\u001b[0m\u001b[0;34m.\u001b[0m\u001b[0mdot\u001b[0m\u001b[0;34m,\u001b[0m\u001b[0;34m(\u001b[0m\u001b[0mx\u001b[0m\u001b[0;34m,\u001b[0m\u001b[0my\u001b[0m\u001b[0;34m)\u001b[0m\u001b[0;34m)\u001b[0m\u001b[0;34m)\u001b[0m\u001b[0;34m\u001b[0m\u001b[0m\n\u001b[0m\u001b[1;32m      7\u001b[0m     \u001b[0;32mif\u001b[0m \u001b[0mi\u001b[0m \u001b[0;34m%\u001b[0m \u001b[0;36m10\u001b[0m \u001b[0;34m==\u001b[0m \u001b[0;36m0\u001b[0m\u001b[0;34m:\u001b[0m\u001b[0;34m\u001b[0m\u001b[0m\n\u001b[1;32m      8\u001b[0m         \u001b[0mprint\u001b[0m\u001b[0;34m(\u001b[0m\u001b[0mi\u001b[0m\u001b[0;34m)\u001b[0m\u001b[0;34m\u001b[0m\u001b[0m\n",
      "\u001b[0;32m<ipython-input-3-10a43fc8b98d>\u001b[0m in \u001b[0;36mreturn_time\u001b[0;34m(function, args, kwargs)\u001b[0m\n\u001b[1;32m      1\u001b[0m \u001b[0;32mdef\u001b[0m \u001b[0mreturn_time\u001b[0m\u001b[0;34m(\u001b[0m\u001b[0mfunction\u001b[0m\u001b[0;34m,\u001b[0m\u001b[0margs\u001b[0m\u001b[0;34m,\u001b[0m\u001b[0mkwargs\u001b[0m\u001b[0;34m=\u001b[0m\u001b[0;34m{\u001b[0m\u001b[0;34m}\u001b[0m\u001b[0;34m)\u001b[0m\u001b[0;34m:\u001b[0m\u001b[0;34m\u001b[0m\u001b[0m\n\u001b[1;32m      2\u001b[0m     \u001b[0mstart\u001b[0m \u001b[0;34m=\u001b[0m \u001b[0mtime\u001b[0m\u001b[0;34m.\u001b[0m\u001b[0mtime\u001b[0m\u001b[0;34m(\u001b[0m\u001b[0;34m)\u001b[0m\u001b[0;34m\u001b[0m\u001b[0m\n\u001b[0;32m----> 3\u001b[0;31m     \u001b[0mfunction\u001b[0m\u001b[0;34m(\u001b[0m\u001b[0;34m*\u001b[0m\u001b[0margs\u001b[0m\u001b[0;34m,\u001b[0m\u001b[0;34m**\u001b[0m\u001b[0mkwargs\u001b[0m\u001b[0;34m)\u001b[0m\u001b[0;34m\u001b[0m\u001b[0m\n\u001b[0m\u001b[1;32m      4\u001b[0m     \u001b[0mend\u001b[0m \u001b[0;34m=\u001b[0m \u001b[0mtime\u001b[0m\u001b[0;34m.\u001b[0m\u001b[0mtime\u001b[0m\u001b[0;34m(\u001b[0m\u001b[0;34m)\u001b[0m\u001b[0;34m\u001b[0m\u001b[0m\n\u001b[1;32m      5\u001b[0m     \u001b[0;32mreturn\u001b[0m \u001b[0mend\u001b[0m\u001b[0;34m-\u001b[0m\u001b[0mstart\u001b[0m\u001b[0;34m\u001b[0m\u001b[0m\n",
      "\u001b[0;31mKeyboardInterrupt\u001b[0m: "
     ]
    }
   ],
   "source": [
    "dot_times = []\n",
    "for i in range(2,102):\n",
    "    \n",
    "    x = np.random.randn(i**2,i**2)\n",
    "    y = np.random.randn(i**2,i**2)\n",
    "    dot_times.append(return_time(np.dot,(x,y)))\n",
    "    if i % 10 == 0:\n",
    "        print(i)\n",
    "    "
   ]
  },
  {
   "cell_type": "code",
   "execution_count": 12,
   "metadata": {
    "collapsed": false
   },
   "outputs": [
    {
     "name": "stdout",
     "output_type": "stream",
     "text": [
      "10\n",
      "20\n",
      "30\n",
      "40\n",
      "50\n",
      "60\n",
      "70\n",
      "80\n",
      "90\n",
      "100\n"
     ]
    }
   ],
   "source": [
    "sparse_times = []\n",
    "for i in range(103,120):\n",
    "    \n",
    "    x = np.random.randn(i**2,i**2)\n",
    "    diag = Diagonal(i,i)\n",
    "    sparse_times.append(return_time(diag.mm,x,kwargs={'sparse':True}))\n",
    "    if i % 10 == 0:\n",
    "        print(i)\n",
    "    \n",
    "    "
   ]
  },
  {
   "cell_type": "code",
   "execution_count": 13,
   "metadata": {
    "collapsed": false
   },
   "outputs": [
    {
     "name": "stdout",
     "output_type": "stream",
     "text": [
      "100\n"
     ]
    }
   ],
   "source": [
    "print(len(sparse_times))"
   ]
  },
  {
   "cell_type": "code",
   "execution_count": 41,
   "metadata": {
    "collapsed": false
   },
   "outputs": [
    {
     "data": {
      "text/plain": [
       "[<matplotlib.lines.Line2D at 0x7fc1fd88bfd0>]"
      ]
     },
     "execution_count": 41,
     "metadata": {},
     "output_type": "execute_result"
    },
    {
     "data": {
      "image/png": "[encoded data removed]",
      "text/plain": [
       "<matplotlib.figure.Figure at 0x7fc1fd884a90>"
      ]
     },
     "metadata": {},
     "output_type": "display_data"
    }
   ],
   "source": [
    "plt.plot(dot_times)"
   ]
  },
  {
   "cell_type": "code",
   "execution_count": 16,
   "metadata": {
    "collapsed": false
   },
   "outputs": [
    {
     "data": {
      "text/plain": [
       "<matplotlib.legend.Legend at 0x7fae8ff1d278>"
      ]
     },
     "execution_count": 16,
     "metadata": {},
     "output_type": "execute_result"
    },
    {
     "data": {
      "image/png": "[encoded data removed]",
      "text/plain": [
       "<Figure size 432x288 with 1 Axes>"
      ]
     },
     "metadata": {},
     "output_type": "display_data"
    }
   ],
   "source": [
    "plt.plot(dot_times[:100],'r',sparse_times,'b')\n",
    "plt.legend(['Numpy Dot', 'Sparse Dot'], loc='upper left')"
   ]
  },
  {
   "cell_type": "code",
   "execution_count": 20,
   "metadata": {
    "collapsed": true
   },
   "outputs": [],
   "source": [
    "import time"
   ]
  },
  {
   "cell_type": "code",
   "execution_count": 21,
   "metadata": {
    "collapsed": false
   },
   "outputs": [
    {
     "name": "stdout",
     "output_type": "stream",
     "text": [
      "10\n",
      "20\n",
      "30\n",
      "40\n",
      "50\n",
      "60\n",
      "70\n",
      "80\n",
      "90\n",
      "100\n"
     ]
    }
   ],
   "source": [
    "scipy_lu = []\n",
    "for i in range(2,101):\n",
    "    \n",
    "    x = np.random.randn(i**2,i**2)\n",
    "    diag = Diagonal(i,i)\n",
    "    mat = d.from_dense(d.matrix)\n",
    "    scipy_lu.append(return_time(la.lu,x))\n",
    "    if i % 10 == 0:\n",
    "        print(i)"
   ]
  },
  {
   "cell_type": "code",
   "execution_count": null,
   "metadata": {
    "collapsed": true
   },
   "outputs": [],
   "source": [
    "scipy_lu = []\n",
    "for i in range(2,101):\n",
    "    \n",
    "    x = np.random.randn(i**2,i**2)\n",
    "    diag = Diagonal(i,i)\n",
    "    mat = d.from_dense(d.matrix)\n",
    "    scipy_lu.append(return_time(la.lu,x))\n",
    "    if i % 10 == 0:\n",
    "        print(i)"
   ]
  },
  {
   "cell_type": "code",
   "execution_count": null,
   "metadata": {
    "collapsed": false
   },
   "outputs": [
    {
     "name": "stdout",
     "output_type": "stream",
     "text": [
      "10\n",
      "20\n",
      "30\n",
      "40\n"
     ]
    }
   ],
   "source": [
    "base_lu = []\n",
    "for i in range(2,101):\n",
    "    \n",
    "    x = np.random.randn(i**2,i**2)\n",
    "    diag = Diagonal(i,i)\n",
    "    mat = diag.from_dense(diag.matrix)\n",
    "    base_lu.append(return_time(lu_decomp,mat))\n",
    "    if i % 10 == 0:\n",
    "        print(i)"
   ]
  },
  {
   "cell_type": "code",
   "execution_count": 39,
   "metadata": {
    "collapsed": false
   },
   "outputs": [
    {
     "name": "stdout",
     "output_type": "stream",
     "text": [
      "10\n",
      "20\n",
      "30\n",
      "40\n",
      "50\n",
      "60\n",
      "70\n",
      "80\n",
      "90\n",
      "100\n"
     ]
    }
   ],
   "source": [
    "diag_lu = []\n",
    "for i in range(2,101):\n",
    "    \n",
    "    x = np.random.randn(i**2,i**2)\n",
    "    diag = Diagonal(i,i)\n",
    "    start = time.time()\n",
    "    _=diag.plu()\n",
    "    end = time.time()\n",
    "    diag_lu.append(end-start)\n",
    "    if i % 10 == 0:\n",
    "        print(i)"
   ]
  },
  {
   "cell_type": "code",
   "execution_count": 29,
   "metadata": {
    "collapsed": false
   },
   "outputs": [
    {
     "name": "stdout",
     "output_type": "stream",
     "text": [
      "8.743863105773926\n"
     ]
    }
   ],
   "source": [
    "print(scipy_lu[-1])"
   ]
  },
  {
   "cell_type": "code",
   "execution_count": 35,
   "metadata": {
    "collapsed": false
   },
   "outputs": [
    {
     "data": {
      "text/plain": [
       "10"
      ]
     },
     "execution_count": 35,
     "metadata": {},
     "output_type": "execute_result"
    }
   ],
   "source": [
    "d.n"
   ]
  },
  {
   "cell_type": "code",
   "execution_count": 44,
   "metadata": {
    "collapsed": false
   },
   "outputs": [
    {
     "data": {
      "text/plain": [
       "[<matplotlib.lines.Line2D at 0x7f5d488fce10>]"
      ]
     },
     "execution_count": 44,
     "metadata": {},
     "output_type": "execute_result"
    },
    {
     "data": {
      "image/png": "[encoded data removed]",
      "text/plain": [
       "<Figure size 432x288 with 1 Axes>"
      ]
     },
     "metadata": {},
     "output_type": "display_data"
    }
   ],
   "source": [
    "plt.plot(scipy_lu,'b')"
   ]
  },
  {
   "cell_type": "code",
   "execution_count": 42,
   "metadata": {
    "collapsed": false
   },
   "outputs": [
    {
     "data": {
      "text/plain": [
       "[<matplotlib.lines.Line2D at 0x7f5d488c3978>]"
      ]
     },
     "execution_count": 42,
     "metadata": {},
     "output_type": "execute_result"
    },
    {
     "data": {
      "image/png": "[encoded data removed]",
      "text/plain": [
       "<Figure size 432x288 with 1 Axes>"
      ]
     },
     "metadata": {},
     "output_type": "display_data"
    }
   ],
   "source": [
    "plt.plot(diag_lu,'b')"
   ]
  },
  {
   "cell_type": "code",
   "execution_count": null,
   "metadata": {
    "collapsed": true
   },
   "outputs": [],
   "source": []
  },
  {
   "cell_type": "code",
   "execution_count": 56,
   "metadata": {
    "collapsed": true
   },
   "outputs": [],
   "source": [
    "from scipy import sparse,dot"
   ]
  },
  {
   "cell_type": "code",
   "execution_count": 63,
   "metadata": {
    "collapsed": false
   },
   "outputs": [
    {
     "name": "stdout",
     "output_type": "stream",
     "text": [
      "10\n",
      "20\n",
      "30\n",
      "40\n",
      "50\n",
      "60\n",
      "70\n",
      "80\n",
      "90\n",
      "100\n"
     ]
    }
   ],
   "source": [
    "scipy_times = []\n",
    "for i in range(2,101):\n",
    "    \n",
    "    x = np.random.randn(i**2,i**2)\n",
    "    diag = Diagonal(i,i)\n",
    "    sparse_matrix = sparse.csr_matrix(diag.from_dense(diag.matrix))\n",
    "    scipy_times.append(return_time(sparse.csr_matrix.dot,(sparse_matrix,x)))\n",
    "    if i % 10 == 0:\n",
    "        print(i)"
   ]
  },
  {
   "cell_type": "code",
   "execution_count": 65,
   "metadata": {
    "collapsed": false
   },
   "outputs": [
    {
     "name": "stdout",
     "output_type": "stream",
     "text": [
      "10\n",
      "20\n",
      "30\n",
      "40\n",
      "50\n",
      "60\n",
      "70\n",
      "80\n",
      "90\n",
      "100\n"
     ]
    }
   ],
   "source": [
    "scipy_times_csc = []\n",
    "for i in range(2,101):\n",
    "    \n",
    "    x = np.random.randn(i**2,i**2)\n",
    "    diag = Diagonal(i,i)\n",
    "    sparse_matrix = sparse.csc_matrix(diag.from_dense(diag.matrix))\n",
    "    scipy_times_csc.append(return_time(sparse.csc_matrix.dot,(sparse_matrix,x)))\n",
    "    if i % 10 == 0:\n",
    "        print(i)"
   ]
  },
  {
   "cell_type": "code",
   "execution_count": null,
   "metadata": {
    "collapsed": true
   },
   "outputs": [],
   "source": [
    "\n",
    "for j in range(diag.area):\n",
    "\n",
    "    basis = diag.basis[j%diag.d]\n",
    "    updatedable = [b for b in basis if b<=j]\n",
    "\n",
    "    for ii,i in enumerate(basis):\n",
    "        if i <= j:\n",
    "            if len(updatedable) == 1:\n",
    "                value = PA[ii,j]\n",
    "            else:\n",
    "                value= PA[ii,j] - (U[updatedable[:ii+(1-j%2)],j] *L[basis[ii],updatedable[:ii+(1-j%2)]]).sum()\n",
    "            U[i,j] = value\n",
    "\n",
    "    updatedable = [b for b in basis if b>j]\n",
    "    for ii,i in enumerate(basis):\n",
    "        if i > j:\n",
    "            if len(updatedable)>1:\n",
    "                value = PA[ii,j] / U[j,j]\n",
    "            else:\n",
    "                value = (PA[ii,j] -(U[basis[:ii],j] * L[updatedable,basis[:ii]]).sum()) / U[j,j]\n",
    "\n",
    "            L[i,j] = value"
   ]
  },
  {
   "cell_type": "code",
   "execution_count": 352,
   "metadata": {
    "collapsed": false
   },
   "outputs": [
    {
     "ename": "IndexError",
     "evalue": "shape mismatch: indexing arrays could not be broadcast together with shapes (2,) (3,) ",
     "output_type": "error",
     "traceback": [
      "\u001b[0;31m---------------------------------------------------------------------------\u001b[0m",
      "\u001b[0;31mIndexError\u001b[0m                                Traceback (most recent call last)",
      "\u001b[0;32m<ipython-input-352-1471ca7f587b>\u001b[0m in \u001b[0;36m<module>\u001b[0;34m()\u001b[0m\n\u001b[0;32m----> 1\u001b[0;31m \u001b[0;34m(\u001b[0m\u001b[0mPA\u001b[0m\u001b[0;34m[\u001b[0m\u001b[0mii\u001b[0m\u001b[0;34m,\u001b[0m\u001b[0mj\u001b[0m\u001b[0;34m]\u001b[0m \u001b[0;34m-\u001b[0m\u001b[0;34m(\u001b[0m\u001b[0mU\u001b[0m\u001b[0;34m[\u001b[0m\u001b[0mbasis\u001b[0m\u001b[0;34m[\u001b[0m\u001b[0;34m:\u001b[0m\u001b[0mii\u001b[0m\u001b[0;34m]\u001b[0m\u001b[0;34m,\u001b[0m\u001b[0mj\u001b[0m\u001b[0;34m]\u001b[0m \u001b[0;34m*\u001b[0m \u001b[0mL\u001b[0m\u001b[0;34m[\u001b[0m\u001b[0mupdatedable\u001b[0m\u001b[0;34m,\u001b[0m\u001b[0mbasis\u001b[0m\u001b[0;34m[\u001b[0m\u001b[0;34m:\u001b[0m\u001b[0mii\u001b[0m\u001b[0;34m]\u001b[0m\u001b[0;34m]\u001b[0m\u001b[0;34m)\u001b[0m\u001b[0;34m.\u001b[0m\u001b[0msum\u001b[0m\u001b[0;34m(\u001b[0m\u001b[0;34m)\u001b[0m\u001b[0;34m)\u001b[0m\u001b[0;34m\u001b[0m\u001b[0m\n\u001b[0m",
      "\u001b[0;31mIndexError\u001b[0m: shape mismatch: indexing arrays could not be broadcast together with shapes (2,) (3,) "
     ]
    }
   ],
   "source": [
    "(PA[ii,j] -(U[basis[:ii],j] * L[updatedable,basis[:ii]]).sum())"
   ]
  },
  {
   "cell_type": "code",
   "execution_count": 357,
   "metadata": {
    "collapsed": false
   },
   "outputs": [
    {
     "data": {
      "text/plain": [
       "array([0, 2, 4])"
      ]
     },
     "execution_count": 357,
     "metadata": {},
     "output_type": "execute_result"
    }
   ],
   "source": [
    "basis[:3]"
   ]
  },
  {
   "cell_type": "code",
   "execution_count": 358,
   "metadata": {
    "collapsed": false
   },
   "outputs": [
    {
     "data": {
      "text/plain": [
       "array([[ 0.14708815,  0.        ,  0.28584839,  0.        ,  1.        ,\n",
       "         0.        ,  0.        ,  0.        ],\n",
       "       [-0.03876399,  0.        ,  0.        ,  0.        ,  0.        ,\n",
       "         0.        ,  1.        ,  0.        ]])"
      ]
     },
     "execution_count": 358,
     "metadata": {},
     "output_type": "execute_result"
    }
   ],
   "source": [
    "L[updatedable]"
   ]
  },
  {
   "cell_type": "code",
   "execution_count": 388,
   "metadata": {
    "collapsed": false
   },
   "outputs": [
    {
     "data": {
      "text/plain": [
       "array([ 0.,  0.])"
      ]
     },
     "execution_count": 388,
     "metadata": {},
     "output_type": "execute_result"
    }
   ],
   "source": [
    "U[updatedable[:ii],j] "
   ]
  },
  {
   "cell_type": "code",
   "execution_count": 385,
   "metadata": {
    "collapsed": false
   },
   "outputs": [
    {
     "data": {
      "text/plain": [
       "array([0, 2, 4])"
      ]
     },
     "execution_count": 385,
     "metadata": {},
     "output_type": "execute_result"
    }
   ],
   "source": [
    "basis[:ii]"
   ]
  },
  {
   "cell_type": "code",
   "execution_count": 362,
   "metadata": {
    "collapsed": false
   },
   "outputs": [
    {
     "data": {
      "text/plain": [
       "array([0, 2])"
      ]
     },
     "execution_count": 362,
     "metadata": {},
     "output_type": "execute_result"
    }
   ],
   "source": [
    "basis[:2]"
   ]
  },
  {
   "cell_type": "code",
   "execution_count": 364,
   "metadata": {
    "collapsed": false
   },
   "outputs": [
    {
     "data": {
      "text/plain": [
       "array([ 0.14708815,  0.        ])"
      ]
     },
     "execution_count": 364,
     "metadata": {},
     "output_type": "execute_result"
    }
   ],
   "source": [
    "L[updatedable,basis[:2]]"
   ]
  },
  {
   "cell_type": "code",
   "execution_count": 353,
   "metadata": {
    "collapsed": false
   },
   "outputs": [
    {
     "data": {
      "text/plain": [
       "array([ 0.49743217,  1.61354463,  0.        ])"
      ]
     },
     "execution_count": 353,
     "metadata": {},
     "output_type": "execute_result"
    }
   ],
   "source": [
    "U[basis[:ii],j] "
   ]
  },
  {
   "cell_type": "code",
   "execution_count": 457,
   "metadata": {
    "collapsed": true
   },
   "outputs": [],
   "source": [
    "L = np.eye(d.area)\n",
    "U = np.zeros((d.area,d.area))\n",
    "#P = create_pivot(d.from_dense(d.matrix))\n",
    "#PA = get_permutation_dense(d)\n"
   ]
  },
  {
   "cell_type": "code",
   "execution_count": 494,
   "metadata": {
    "collapsed": true
   },
   "outputs": [],
   "source": [
    "j=5\n",
    "basis = d.basis[j%d.d]\n",
    "updatedable = [b for b in basis if b<=j]"
   ]
  },
  {
   "cell_type": "code",
   "execution_count": 495,
   "metadata": {
    "collapsed": true
   },
   "outputs": [],
   "source": [
    "for ii,i in enumerate(basis):\n",
    "    if i <= j:\n",
    "        if len(updatedable) == 1:\n",
    "            value = PA[ii,j]\n",
    "        else:\n",
    "            value= PA[ii,j] - (U[updatedable[:ii+(1-j%2)],j] *L[basis[ii],updatedable[:ii+(1-j%2)]]).sum()\n",
    "        U[i,j] = value"
   ]
  },
  {
   "cell_type": "code",
   "execution_count": 467,
   "metadata": {
    "collapsed": false
   },
   "outputs": [
    {
     "data": {
      "text/plain": [
       "1.6670677661895752"
      ]
     },
     "execution_count": 467,
     "metadata": {},
     "output_type": "execute_result"
    }
   ],
   "source": [
    "U[j,j]"
   ]
  },
  {
   "cell_type": "code",
   "execution_count": 496,
   "metadata": {
    "collapsed": true
   },
   "outputs": [],
   "source": [
    "updatedable = [b for b in basis if b>j]\n",
    "for ii,i in enumerate(basis):\n",
    "    if i > j:\n",
    "        if len(updatedable)>d.d:\n",
    "            print(\"shortcut\")\n",
    "            value = PA[ii,j] / U[j,j]\n",
    "        else:\n",
    "            value = (PA[ii,j] -(L[basis[ii],range(j)] * U[range(j),j]).sum()) / U[j,j]\n",
    "\n",
    "        L[i,j] = value"
   ]
  },
  {
   "cell_type": "code",
   "execution_count": 394,
   "metadata": {
    "collapsed": false
   },
   "outputs": [
    {
     "data": {
      "text/plain": [
       "0.28584839330296491"
      ]
     },
     "execution_count": 394,
     "metadata": {},
     "output_type": "execute_result"
    }
   ],
   "source": [
    "(PA[2,j] -(U[basis[:2],j] * L[updatedable,basis[:2]]).sum()) / U[j,j]"
   ]
  },
  {
   "cell_type": "code",
   "execution_count": 425,
   "metadata": {
    "collapsed": false
   },
   "outputs": [
    {
     "data": {
      "text/plain": [
       "-0.019282454051511223"
      ]
     },
     "execution_count": 425,
     "metadata": {},
     "output_type": "execute_result"
    }
   ],
   "source": [
    "(L[basis[3],basis[:2]] * U[range(j),j]).sum()"
   ]
  },
  {
   "cell_type": "code",
   "execution_count": 421,
   "metadata": {
    "collapsed": false
   },
   "outputs": [
    {
     "data": {
      "text/plain": [
       "array([], dtype=float64)"
      ]
     },
     "execution_count": 421,
     "metadata": {},
     "output_type": "execute_result"
    }
   ],
   "source": [
    "U[range(0),0]"
   ]
  },
  {
   "cell_type": "code",
   "execution_count": 426,
   "metadata": {
    "collapsed": false
   },
   "outputs": [
    {
     "data": {
      "text/plain": [
       "-0.39356854289575832"
      ]
     },
     "execution_count": 426,
     "metadata": {},
     "output_type": "execute_result"
    }
   ],
   "source": [
    "(PA[3,j] -(L[basis[3],basis[:2]] * U[range(j),j]).sum() )/U[j,j]"
   ]
  },
  {
   "cell_type": "code",
   "execution_count": 418,
   "metadata": {
    "collapsed": false
   },
   "outputs": [
    {
     "data": {
      "text/plain": [
       "array([[ 0.14708815,  0.        ,  0.        ,  0.        ,  1.        ,\n",
       "         0.        ,  0.        ,  0.        ],\n",
       "       [-0.03876399,  0.        ,  0.        ,  0.        ,  0.        ,\n",
       "         0.        ,  1.        ,  0.        ]])"
      ]
     },
     "execution_count": 418,
     "metadata": {},
     "output_type": "execute_result"
    }
   ],
   "source": []
  },
  {
   "cell_type": "code",
   "execution_count": 404,
   "metadata": {
    "collapsed": false
   },
   "outputs": [
    {
     "data": {
      "text/plain": [
       "array([ 0.14708815,  0.        ])"
      ]
     },
     "execution_count": 404,
     "metadata": {},
     "output_type": "execute_result"
    }
   ],
   "source": [
    "L[updatedable,basis[:2]]"
   ]
  },
  {
   "cell_type": "code",
   "execution_count": 497,
   "metadata": {
    "collapsed": false
   },
   "outputs": [
    {
     "name": "stdout",
     "output_type": "stream",
     "text": [
      "[[ 1.1679976   0.          0.49743217  0.          0.814821    0.          0.        ]\n",
      " [ 0.          1.66706777  0.         -1.57935429  0.          0.07962431\n",
      "   0.        ]\n",
      " [ 0.          0.          1.61354463  0.          0.42741828  0.          0.        ]\n",
      " [ 0.          0.          0.         -1.49196601  0.         -0.40317704\n",
      "   0.        ]\n",
      " [ 0.          0.          0.          0.         -0.77604979  0.          0.        ]\n",
      " [ 0.          0.          0.          0.          0.         -1.44735213\n",
      "   0.        ]\n",
      " [ 0.          0.          0.          0.          0.          0.          0.        ]]\n"
     ]
    }
   ],
   "source": [
    "print(U[:j+2,:j+2])"
   ]
  },
  {
   "cell_type": "code",
   "execution_count": 498,
   "metadata": {
    "collapsed": false
   },
   "outputs": [
    {
     "name": "stdout",
     "output_type": "stream",
     "text": [
      "[[ 1.1679976   0.          0.49743217  0.          0.814821    0.\n",
      "   1.0599668 ]\n",
      " [ 0.          1.66706777  0.         -1.57935429  0.          0.07962431\n",
      "   0.        ]\n",
      " [ 0.          0.          1.61354458  0.          0.42741829  0.\n",
      "   0.32166478]\n",
      " [ 0.          0.          0.         -1.49196601  0.         -0.40317705\n",
      "   0.        ]\n",
      " [ 0.          0.          0.          0.         -0.77604979  0.\n",
      "  -1.71874595]\n",
      " [ 0.          0.          0.          0.          0.         -1.44735217\n",
      "   0.        ]\n",
      " [ 0.          0.          0.          0.          0.          0.\n",
      "  -2.63216019]]\n"
     ]
    }
   ],
   "source": [
    "print(u[:j+2,:j+2])"
   ]
  },
  {
   "cell_type": "code",
   "execution_count": 499,
   "metadata": {
    "collapsed": false
   },
   "outputs": [
    {
     "name": "stdout",
     "output_type": "stream",
     "text": [
      "[[ 1.          0.          0.          0.          0.          0.        ]\n",
      " [ 0.          1.          0.          0.          0.          0.        ]\n",
      " [-0.07655607  0.          1.          0.          0.          0.        ]\n",
      " [ 0.          0.13699252  0.          1.          0.          0.        ]\n",
      " [ 0.14708815  0.          0.28584839  0.          1.          0.        ]\n",
      " [ 0.          0.78469847  0.         -0.30324626  0.          1.        ]\n",
      " [-0.03876399  0.         -0.39356854  0.         -0.93899876  0.        ]\n",
      " [ 0.         -0.04221777  0.          0.3466691   0.         -0.45909872]]\n"
     ]
    }
   ],
   "source": [
    "print(L[:,:j+1])"
   ]
  },
  {
   "cell_type": "code",
   "execution_count": 500,
   "metadata": {
    "collapsed": false
   },
   "outputs": [
    {
     "name": "stdout",
     "output_type": "stream",
     "text": [
      "[[ 1.          0.          0.          0.          0.          0.        ]\n",
      " [ 0.          1.          0.          0.          0.          0.        ]\n",
      " [-0.07655607  0.          1.          0.          0.          0.        ]\n",
      " [ 0.          0.13699252  0.          1.          0.          0.        ]\n",
      " [ 0.14708815  0.          0.28584839 -0.          1.          0.        ]\n",
      " [ 0.          0.78469847  0.         -0.30324626 -0.          1.        ]\n",
      " [-0.03876399  0.         -0.39356854 -0.         -0.93899876 -0.        ]\n",
      " [ 0.         -0.04221777  0.          0.3466691  -0.         -0.45909872]]\n"
     ]
    }
   ],
   "source": [
    "print(ll[:,:j+1])"
   ]
  },
  {
   "cell_type": "code",
   "execution_count": 390,
   "metadata": {
    "collapsed": true
   },
   "outputs": [],
   "source": [
    "L[6,2] = 0\n",
    "L[4,2] = 0"
   ]
  },
  {
   "cell_type": "code",
   "execution_count": 401,
   "metadata": {
    "collapsed": false
   },
   "outputs": [
    {
     "data": {
      "text/plain": [
       "0.33119352420912457"
      ]
     },
     "execution_count": 401,
     "metadata": {},
     "output_type": "execute_result"
    }
   ],
   "source": [
    "0.53439551591873169 -(0.14708815  * 0.49743217 ) / 1.61354458  "
   ]
  },
  {
   "cell_type": "code",
   "execution_count": 6,
   "metadata": {
    "collapsed": false
   },
   "outputs": [
    {
     "name": "stdout",
     "output_type": "stream",
     "text": [
      "11.1 µs ± 100 ns per loop (mean ± std. dev. of 7 runs, 100000 loops each)\n"
     ]
    }
   ],
   "source": [
    "%%timeit \n",
    "get_permutation_dense(d)"
   ]
  },
  {
   "cell_type": "code",
   "execution_count": 6,
   "metadata": {
    "collapsed": false
   },
   "outputs": [],
   "source": [
    "pa = get_permutation_dense(d)"
   ]
  },
  {
   "cell_type": "code",
   "execution_count": 13,
   "metadata": {
    "collapsed": false
   },
   "outputs": [
    {
     "name": "stdout",
     "output_type": "stream",
     "text": [
      "7.76 ms ± 45.5 µs per loop (mean ± std. dev. of 7 runs, 100 loops each)\n"
     ]
    }
   ],
   "source": [
    "%%timeit\n",
    "plu(d,pa)"
   ]
  },
  {
   "cell_type": "code",
   "execution_count": 16,
   "metadata": {
    "collapsed": false
   },
   "outputs": [
    {
     "name": "stdout",
     "output_type": "stream",
     "text": [
      "6.27 ms ± 23 µs per loop (mean ± std. dev. of 7 runs, 100 loops each)\n"
     ]
    }
   ],
   "source": [
    "%%timeit\n",
    "plu(d,pa)"
   ]
  },
  {
   "cell_type": "code",
   "execution_count": null,
   "metadata": {
    "collapsed": true
   },
   "outputs": [],
   "source": [
    "plu()"
   ]
  },
  {
   "cell_type": "code",
   "execution_count": 4,
   "metadata": {
    "collapsed": true
   },
   "outputs": [],
   "source": [
    "\n",
    "def get_permutation_dense(diag):\n",
    "    diags = np.repeat(np.arange(0,diag.n),diag.d)\n",
    "    updated = diag.row_based.copy()\n",
    "    for c in range(updated.shape[1]):\n",
    "        max_idx = np.argmax(np.abs(d.row_based[diags[c]:,c]))\n",
    "        max_idx += diags[c]\n",
    "        if (max_idx != diags[c]):\n",
    "            order = swap_elements(list(range(updated.shape[0])),max_idx,diags[c])\n",
    "            basis = diag.basis[c%diag.d]\n",
    "            updated[:,basis] = updated[:,basis][[order],:]\n",
    "    return updated\n",
    "        \n",
    "    \n",
    "    \n",
    "    "
   ]
  },
  {
   "cell_type": "code",
   "execution_count": 41,
   "metadata": {
    "collapsed": true
   },
   "outputs": [],
   "source": [
    "def create_pivot(mat):\n",
    "    mat_size = mat.shape[0]\n",
    "    p_blank = np.eye(mat_size)\n",
    "    for c in range(mat_size):\n",
    "        row = max(range(c, mat_size), key=lambda i: abs(mat[i,c]))\n",
    "        if c != row:\n",
    "            p_blank[[c,row]] = p_blank[[row,c]]\n",
    "        \n",
    "            \n",
    "    return p_blank"
   ]
  },
  {
   "cell_type": "code",
   "execution_count": 3,
   "metadata": {
    "collapsed": true
   },
   "outputs": [],
   "source": [
    "def swap_elements(l,i,j):\n",
    "    new = l.copy()\n",
    "    new[i],new[j] = j,i\n",
    "    return new"
   ]
  },
  {
   "cell_type": "code",
   "execution_count": 124,
   "metadata": {
    "collapsed": true
   },
   "outputs": [],
   "source": [
    "def pivot_matrix(M):\n",
    "    \"\"\"Returns the pivoting matrix for M, used in Doolittle's method.\"\"\"\n",
    "    m = len(M)\n",
    "\n",
    "    # Create an identity matrix, with floating point values                                                                                                                                                                                            \n",
    "    id_mat = [[float(i ==j) for i in range(m)] for j in range(m)]\n",
    "\n",
    "    # Rearrange the identity matrix such that the largest element of                                                                                                                                                                                   \n",
    "    # each column of M is placed on the diagonal of of M                                                                                                                                                                                               \n",
    "    for j in range(m):\n",
    "        row = max(range(j, m), key=lambda i: abs(M[i][j]))\n",
    "        if j != row:\n",
    "            # Swap the rows                                                                                                                                                                                                                            \n",
    "            id_mat[j], id_mat[row] = id_mat[row], id_mat[j]\n",
    "\n",
    "    return id_mat\n"
   ]
  },
  {
   "cell_type": "code",
   "execution_count": 17,
   "metadata": {
    "collapsed": false
   },
   "outputs": [
    {
     "data": {
      "text/plain": [
       "[array([ 0, 10, 20, 30, 40, 50, 60, 70, 80, 90]),\n",
       " array([ 1, 11, 21, 31, 41, 51, 61, 71, 81, 91]),\n",
       " array([ 2, 12, 22, 32, 42, 52, 62, 72, 82, 92]),\n",
       " array([ 3, 13, 23, 33, 43, 53, 63, 73, 83, 93]),\n",
       " array([ 4, 14, 24, 34, 44, 54, 64, 74, 84, 94]),\n",
       " array([ 5, 15, 25, 35, 45, 55, 65, 75, 85, 95]),\n",
       " array([ 6, 16, 26, 36, 46, 56, 66, 76, 86, 96]),\n",
       " array([ 7, 17, 27, 37, 47, 57, 67, 77, 87, 97]),\n",
       " array([ 8, 18, 28, 38, 48, 58, 68, 78, 88, 98]),\n",
       " array([ 9, 19, 29, 39, 49, 59, 69, 79, 89, 99])]"
      ]
     },
     "execution_count": 17,
     "metadata": {},
     "output_type": "execute_result"
    }
   ],
   "source": [
    "d.basis"
   ]
  },
  {
   "cell_type": "code",
   "execution_count": 40,
   "metadata": {
    "collapsed": true
   },
   "outputs": [],
   "source": [
    "def lu_decomp(mat):\n",
    "    n = mat.shape[0]\n",
    "    L = np.eye(n)\n",
    "    U = np.zeros((n,n))\n",
    "    P = create_pivot(mat)\n",
    "    PA = P.dot(mat)\n",
    "    for j in range(n):\n",
    "        for i in range(j+1):\n",
    "            #print('U')\n",
    "            s1 = sum(U[k,j] * L[i,k] for k in range(i))\n",
    "            #print(i,j,s1)\n",
    "            U[i,j] = PA[i,j]- s1\n",
    "            #print(U)\n",
    "        for i in range(j, n):\n",
    "            #print('L')\n",
    "            s2 = sum(U[k,j] * L[i,k] for k in range(j))\n",
    "            #print(i,j,s2,U[j,j])\n",
    "            L[i,j] = (PA[i,j] - s2) / U[j,j]\n",
    "            #print(L)\n",
    "    return(P,L,U)\n",
    "\n",
    "    "
   ]
  },
  {
   "cell_type": "code",
   "execution_count": 15,
   "metadata": {
    "collapsed": true
   },
   "outputs": [],
   "source": [
    "def plu(diag,PA):\n",
    "    L = np.eye(diag.area)\n",
    "    U = np.zeros((diag.area,diag.area))\n",
    "    #P = create_pivot(diag.from_dense(diag.matrix))\n",
    "    #PA = get_permutation_dense(diag)\n",
    "    \n",
    "    for j in range(diag.area):\n",
    "    \n",
    "        basis = diag.basis[j%diag.d]\n",
    "        updatedable = [b for b in basis if b<=j]\n",
    "\n",
    "        for ii,i in enumerate(basis):\n",
    "            if i <= j:\n",
    "                if len(updatedable) == 1:\n",
    "                    value = PA[ii,j]\n",
    "                else:\n",
    "                    value= PA[ii,j] - (U[updatedable[:ii+(1-j%2)],j] *L[basis[ii],updatedable[:ii+(1-j%2)]]).sum()\n",
    "                U[i,j] = value\n",
    "\n",
    "        updatedable = [b for b in basis if b>j]\n",
    "        for ii,i in enumerate(basis):\n",
    "            if i > j:\n",
    "                if len(updatedable)>1:\n",
    "                    value = PA[ii,j] / U[j,j]\n",
    "                else:\n",
    "                    value = (PA[ii,j] -(U[basis[:ii],j] * L[updatedable,basis[:ii]]).sum()) / U[j,j]\n",
    "\n",
    "                L[i,j] = value\n",
    "            \n",
    "    \n",
    "    return(PA,L,U)\n",
    "    \n",
    "    "
   ]
  },
  {
   "cell_type": "code",
   "execution_count": 49,
   "metadata": {
    "collapsed": false
   },
   "outputs": [],
   "source": [
    "d = Diagonal(100,100)\n",
    "mat = d.from_dense(d.matrix)"
   ]
  },
  {
   "cell_type": "code",
   "execution_count": null,
   "metadata": {
    "collapsed": true
   },
   "outputs": [],
   "source": [
    "%%timeit\n",
    "p,l,u = la.lu(mat)"
   ]
  },
  {
   "cell_type": "code",
   "execution_count": 3,
   "metadata": {
    "collapsed": true
   },
   "outputs": [],
   "source": [
    "P,PA,L,U = d.plu()"
   ]
  },
  {
   "cell_type": "code",
   "execution_count": 4,
   "metadata": {
    "collapsed": false
   },
   "outputs": [
    {
     "data": {
      "text/plain": [
       "array([[-0.16942245,  1.64370525, -1.86522543, -0.13269112],\n",
       "       [-0.05318164,  1.17119849,  0.8996135 , -0.04022091]])"
      ]
     },
     "execution_count": 4,
     "metadata": {},
     "output_type": "execute_result"
    }
   ],
   "source": [
    "PA"
   ]
  },
  {
   "cell_type": "code",
   "execution_count": 47,
   "metadata": {
    "collapsed": false
   },
   "outputs": [
    {
     "data": {
      "text/plain": [
       "(100, 100)"
      ]
     },
     "execution_count": 47,
     "metadata": {},
     "output_type": "execute_result"
    }
   ],
   "source": [
    "retur"
   ]
  },
  {
   "cell_type": "code",
   "execution_count": 50,
   "metadata": {
    "collapsed": false,
    "scrolled": false
   },
   "outputs": [
    {
     "ename": "KeyboardInterrupt",
     "evalue": "",
     "output_type": "error",
     "traceback": [
      "\u001b[0;31m---------------------------------------------------------------------------\u001b[0m",
      "\u001b[0;31mKeyboardInterrupt\u001b[0m                         Traceback (most recent call last)",
      "\u001b[0;32m<ipython-input-50-1c3000d03522>\u001b[0m in \u001b[0;36m<module>\u001b[0;34m()\u001b[0m\n\u001b[1;32m      1\u001b[0m \u001b[0;34m\u001b[0m\u001b[0m\n\u001b[0;32m----> 2\u001b[0;31m \u001b[0mpp\u001b[0m\u001b[0;34m,\u001b[0m\u001b[0mll\u001b[0m\u001b[0;34m,\u001b[0m\u001b[0muu\u001b[0m \u001b[0;34m=\u001b[0m \u001b[0mlu_decomp\u001b[0m\u001b[0;34m(\u001b[0m\u001b[0mmat\u001b[0m\u001b[0;34m)\u001b[0m\u001b[0;34m\u001b[0m\u001b[0m\n\u001b[0m",
      "\u001b[0;32m<ipython-input-40-ac91f8b2a3e9>\u001b[0m in \u001b[0;36mlu_decomp\u001b[0;34m(mat)\u001b[0m\n\u001b[1;32m      3\u001b[0m     \u001b[0mL\u001b[0m \u001b[0;34m=\u001b[0m \u001b[0mnp\u001b[0m\u001b[0;34m.\u001b[0m\u001b[0meye\u001b[0m\u001b[0;34m(\u001b[0m\u001b[0mn\u001b[0m\u001b[0;34m)\u001b[0m\u001b[0;34m\u001b[0m\u001b[0m\n\u001b[1;32m      4\u001b[0m     \u001b[0mU\u001b[0m \u001b[0;34m=\u001b[0m \u001b[0mnp\u001b[0m\u001b[0;34m.\u001b[0m\u001b[0mzeros\u001b[0m\u001b[0;34m(\u001b[0m\u001b[0;34m(\u001b[0m\u001b[0mn\u001b[0m\u001b[0;34m,\u001b[0m\u001b[0mn\u001b[0m\u001b[0;34m)\u001b[0m\u001b[0;34m)\u001b[0m\u001b[0;34m\u001b[0m\u001b[0m\n\u001b[0;32m----> 5\u001b[0;31m     \u001b[0mP\u001b[0m \u001b[0;34m=\u001b[0m \u001b[0mcreate_pivot\u001b[0m\u001b[0;34m(\u001b[0m\u001b[0mmat\u001b[0m\u001b[0;34m)\u001b[0m\u001b[0;34m\u001b[0m\u001b[0m\n\u001b[0m\u001b[1;32m      6\u001b[0m     \u001b[0mPA\u001b[0m \u001b[0;34m=\u001b[0m \u001b[0mP\u001b[0m\u001b[0;34m.\u001b[0m\u001b[0mdot\u001b[0m\u001b[0;34m(\u001b[0m\u001b[0mmat\u001b[0m\u001b[0;34m)\u001b[0m\u001b[0;34m\u001b[0m\u001b[0m\n\u001b[1;32m      7\u001b[0m     \u001b[0;32mfor\u001b[0m \u001b[0mj\u001b[0m \u001b[0;32min\u001b[0m \u001b[0mrange\u001b[0m\u001b[0;34m(\u001b[0m\u001b[0mn\u001b[0m\u001b[0;34m)\u001b[0m\u001b[0;34m:\u001b[0m\u001b[0;34m\u001b[0m\u001b[0m\n",
      "\u001b[0;32m<ipython-input-41-2f4fee9a780f>\u001b[0m in \u001b[0;36mcreate_pivot\u001b[0;34m(mat)\u001b[0m\n\u001b[1;32m      3\u001b[0m     \u001b[0mp_blank\u001b[0m \u001b[0;34m=\u001b[0m \u001b[0mnp\u001b[0m\u001b[0;34m.\u001b[0m\u001b[0meye\u001b[0m\u001b[0;34m(\u001b[0m\u001b[0mmat_size\u001b[0m\u001b[0;34m)\u001b[0m\u001b[0;34m\u001b[0m\u001b[0m\n\u001b[1;32m      4\u001b[0m     \u001b[0;32mfor\u001b[0m \u001b[0mc\u001b[0m \u001b[0;32min\u001b[0m \u001b[0mrange\u001b[0m\u001b[0;34m(\u001b[0m\u001b[0mmat_size\u001b[0m\u001b[0;34m)\u001b[0m\u001b[0;34m:\u001b[0m\u001b[0;34m\u001b[0m\u001b[0m\n\u001b[0;32m----> 5\u001b[0;31m         \u001b[0mrow\u001b[0m \u001b[0;34m=\u001b[0m \u001b[0mmax\u001b[0m\u001b[0;34m(\u001b[0m\u001b[0mrange\u001b[0m\u001b[0;34m(\u001b[0m\u001b[0mc\u001b[0m\u001b[0;34m,\u001b[0m \u001b[0mmat_size\u001b[0m\u001b[0;34m)\u001b[0m\u001b[0;34m,\u001b[0m \u001b[0mkey\u001b[0m\u001b[0;34m=\u001b[0m\u001b[0;32mlambda\u001b[0m \u001b[0mi\u001b[0m\u001b[0;34m:\u001b[0m \u001b[0mabs\u001b[0m\u001b[0;34m(\u001b[0m\u001b[0mmat\u001b[0m\u001b[0;34m[\u001b[0m\u001b[0mi\u001b[0m\u001b[0;34m,\u001b[0m\u001b[0mc\u001b[0m\u001b[0;34m]\u001b[0m\u001b[0;34m)\u001b[0m\u001b[0;34m)\u001b[0m\u001b[0;34m\u001b[0m\u001b[0m\n\u001b[0m\u001b[1;32m      6\u001b[0m         \u001b[0;32mif\u001b[0m \u001b[0mc\u001b[0m \u001b[0;34m!=\u001b[0m \u001b[0mrow\u001b[0m\u001b[0;34m:\u001b[0m\u001b[0;34m\u001b[0m\u001b[0m\n\u001b[1;32m      7\u001b[0m             \u001b[0mp_blank\u001b[0m\u001b[0;34m[\u001b[0m\u001b[0;34m[\u001b[0m\u001b[0mc\u001b[0m\u001b[0;34m,\u001b[0m\u001b[0mrow\u001b[0m\u001b[0;34m]\u001b[0m\u001b[0;34m]\u001b[0m \u001b[0;34m=\u001b[0m \u001b[0mp_blank\u001b[0m\u001b[0;34m[\u001b[0m\u001b[0;34m[\u001b[0m\u001b[0mrow\u001b[0m\u001b[0;34m,\u001b[0m\u001b[0mc\u001b[0m\u001b[0;34m]\u001b[0m\u001b[0;34m]\u001b[0m\u001b[0;34m\u001b[0m\u001b[0m\n",
      "\u001b[0;32m<ipython-input-41-2f4fee9a780f>\u001b[0m in \u001b[0;36m<lambda>\u001b[0;34m(i)\u001b[0m\n\u001b[1;32m      3\u001b[0m     \u001b[0mp_blank\u001b[0m \u001b[0;34m=\u001b[0m \u001b[0mnp\u001b[0m\u001b[0;34m.\u001b[0m\u001b[0meye\u001b[0m\u001b[0;34m(\u001b[0m\u001b[0mmat_size\u001b[0m\u001b[0;34m)\u001b[0m\u001b[0;34m\u001b[0m\u001b[0m\n\u001b[1;32m      4\u001b[0m     \u001b[0;32mfor\u001b[0m \u001b[0mc\u001b[0m \u001b[0;32min\u001b[0m \u001b[0mrange\u001b[0m\u001b[0;34m(\u001b[0m\u001b[0mmat_size\u001b[0m\u001b[0;34m)\u001b[0m\u001b[0;34m:\u001b[0m\u001b[0;34m\u001b[0m\u001b[0m\n\u001b[0;32m----> 5\u001b[0;31m         \u001b[0mrow\u001b[0m \u001b[0;34m=\u001b[0m \u001b[0mmax\u001b[0m\u001b[0;34m(\u001b[0m\u001b[0mrange\u001b[0m\u001b[0;34m(\u001b[0m\u001b[0mc\u001b[0m\u001b[0;34m,\u001b[0m \u001b[0mmat_size\u001b[0m\u001b[0;34m)\u001b[0m\u001b[0;34m,\u001b[0m \u001b[0mkey\u001b[0m\u001b[0;34m=\u001b[0m\u001b[0;32mlambda\u001b[0m \u001b[0mi\u001b[0m\u001b[0;34m:\u001b[0m \u001b[0mabs\u001b[0m\u001b[0;34m(\u001b[0m\u001b[0mmat\u001b[0m\u001b[0;34m[\u001b[0m\u001b[0mi\u001b[0m\u001b[0;34m,\u001b[0m\u001b[0mc\u001b[0m\u001b[0;34m]\u001b[0m\u001b[0;34m)\u001b[0m\u001b[0;34m)\u001b[0m\u001b[0;34m\u001b[0m\u001b[0m\n\u001b[0m\u001b[1;32m      6\u001b[0m         \u001b[0;32mif\u001b[0m \u001b[0mc\u001b[0m \u001b[0;34m!=\u001b[0m \u001b[0mrow\u001b[0m\u001b[0;34m:\u001b[0m\u001b[0;34m\u001b[0m\u001b[0m\n\u001b[1;32m      7\u001b[0m             \u001b[0mp_blank\u001b[0m\u001b[0;34m[\u001b[0m\u001b[0;34m[\u001b[0m\u001b[0mc\u001b[0m\u001b[0;34m,\u001b[0m\u001b[0mrow\u001b[0m\u001b[0;34m]\u001b[0m\u001b[0;34m]\u001b[0m \u001b[0;34m=\u001b[0m \u001b[0mp_blank\u001b[0m\u001b[0;34m[\u001b[0m\u001b[0;34m[\u001b[0m\u001b[0mrow\u001b[0m\u001b[0;34m,\u001b[0m\u001b[0mc\u001b[0m\u001b[0;34m]\u001b[0m\u001b[0;34m]\u001b[0m\u001b[0;34m\u001b[0m\u001b[0m\n",
      "\u001b[0;31mKeyboardInterrupt\u001b[0m: "
     ]
    }
   ],
   "source": [
    "\n",
    "pp,ll,uu = lu_decomp(mat)"
   ]
  },
  {
   "cell_type": "code",
   "execution_count": 48,
   "metadata": {
    "collapsed": false
   },
   "outputs": [
    {
     "data": {
      "text/plain": [
       "array([[0., 0., 0., ..., 0., 0., 0.],\n",
       "       [0., 0., 0., ..., 0., 0., 0.],\n",
       "       [0., 0., 1., ..., 0., 0., 0.],\n",
       "       ...,\n",
       "       [0., 0., 0., ..., 0., 0., 0.],\n",
       "       [0., 0., 0., ..., 0., 0., 0.],\n",
       "       [0., 0., 0., ..., 0., 0., 1.]])"
      ]
     },
     "execution_count": 48,
     "metadata": {},
     "output_type": "execute_result"
    }
   ],
   "source": [
    "np.allclose()"
   ]
  },
  {
   "cell_type": "code",
   "execution_count": 40,
   "metadata": {
    "collapsed": false
   },
   "outputs": [
    {
     "name": "stdout",
     "output_type": "stream",
     "text": [
      "[ 1.24610603  0.          0.          0.          0.1129849   0.          0.\n",
      "  0.          0.46757331  0.          0.          0.          0.08257036\n",
      "  0.          0.          0.        ]\n"
     ]
    }
   ],
   "source": [
    "print(np.dot(L,U)[:,0])"
   ]
  },
  {
   "cell_type": "code",
   "execution_count": 285,
   "metadata": {
    "collapsed": false
   },
   "outputs": [
    {
     "data": {
      "text/plain": [
       "2.1676505003124475"
      ]
     },
     "execution_count": 285,
     "metadata": {},
     "output_type": "execute_result"
    }
   ],
   "source": [
    "PA.sum()"
   ]
  },
  {
   "cell_type": "code",
   "execution_count": 13,
   "metadata": {
    "collapsed": false
   },
   "outputs": [
    {
     "data": {
      "text/plain": [
       "True"
      ]
     },
     "execution_count": 13,
     "metadata": {},
     "output_type": "execute_result"
    }
   ],
   "source": [
    "np.allclose(PA.sum(),L.dot(U).sum())"
   ]
  },
  {
   "cell_type": "code",
   "execution_count": 509,
   "metadata": {
    "collapsed": false,
    "scrolled": false
   },
   "outputs": [
    {
     "name": "stdout",
     "output_type": "stream",
     "text": [
      "column 0\n",
      "-1.2403408587\n",
      "-1.2403408587\n",
      "\n",
      "\n",
      "column 1\n",
      "0.0918840765953\n",
      "0.0918840765953\n",
      "\n",
      "\n",
      "column 2\n",
      "-3.49678850919\n",
      "-3.49678850919\n",
      "\n",
      "\n",
      "column 3\n",
      "-0.375688582659\n",
      "-0.375688582659\n",
      "\n",
      "\n",
      "column 4\n",
      "0.450707294047\n",
      "0.450707294047\n",
      "\n",
      "\n",
      "column 5\n",
      "-0.791108518839\n",
      "-0.791108518839\n",
      "\n",
      "\n",
      "column 6\n",
      "-2.14767384529\n",
      "-2.14767384529\n",
      "\n",
      "\n",
      "column 7\n",
      "-0.0029793381691\n",
      "-0.0029793381691\n",
      "\n",
      "\n"
     ]
    }
   ],
   "source": [
    "for i in range(d.area):\n",
    "    print('column {}'.format(i))\n",
    "    print(L.dot(U)[:,i].sum())\n",
    "    print(PA[:,i].sum())\n",
    "    print('\\n')"
   ]
  }
 ],
 "metadata": {
  "kernelspec": {
   "display_name": "Python [conda env:py3]",
   "language": "python",
   "name": "conda-env-py3-py"
  },
  "language_info": {
   "codemirror_mode": {
    "name": "ipython",
    "version": 3
   },
   "file_extension": ".py",
   "mimetype": "text/x-python",
   "name": "python",
   "nbconvert_exporter": "python",
   "pygments_lexer": "ipython3",
   "version": "3.5.4"
  }
 },
 "nbformat": 4,
 "nbformat_minor": 2
}
